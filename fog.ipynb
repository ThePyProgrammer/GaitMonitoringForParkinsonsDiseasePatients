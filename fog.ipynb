{
 "cells": [
  {
   "cell_type": "code",
   "execution_count": 20,
   "metadata": {},
   "outputs": [],
   "source": [
    "import os\n",
    "os.getcwd()\n",
    "os.chdir(\"/home/aniket/Documents/datasets/fog parkinsons/dataset_fog_release/dataset\")"
   ]
  },
  {
   "cell_type": "code",
   "execution_count": 25,
   "metadata": {},
   "outputs": [],
   "source": [
    "import pandas as pd\n",
    "import numpy as np\n",
    "import matplotlib.pyplot as plt\n",
    "import glob"
   ]
  },
  {
   "cell_type": "code",
   "execution_count": 27,
   "metadata": {},
   "outputs": [],
   "source": [
    "#creating a list of datasets where each element corresponds to a patient\n",
    "\n",
    "allFiles = glob.glob(os.getcwd() + \"/*.txt\")\n",
    "df = []\n",
    "s = \"Time of sample,Ankle_1,Ankle_2,Ankle_3,Thigh_1,Thigh_2,Thigh_3,Trunk_1,Trunk_2,Trunk_3,status\"\n",
    "\n",
    "for filename in allFiles:\n",
    "        df.append(pd.read_csv(filename,sep = \"\\s+\", header = None, names = s.split(\",\")))"
   ]
  },
  {
   "cell_type": "code",
   "execution_count": 41,
   "metadata": {},
   "outputs": [
    {
     "data": {
      "text/html": [
       "<div>\n",
       "<style scoped>\n",
       "    .dataframe tbody tr th:only-of-type {\n",
       "        vertical-align: middle;\n",
       "    }\n",
       "\n",
       "    .dataframe tbody tr th {\n",
       "        vertical-align: top;\n",
       "    }\n",
       "\n",
       "    .dataframe thead th {\n",
       "        text-align: right;\n",
       "    }\n",
       "</style>\n",
       "<table border=\"1\" class=\"dataframe\">\n",
       "  <thead>\n",
       "    <tr style=\"text-align: right;\">\n",
       "      <th></th>\n",
       "      <th>Time of sample</th>\n",
       "      <th>Ankle_1</th>\n",
       "      <th>Ankle_2</th>\n",
       "      <th>Ankle_3</th>\n",
       "      <th>Thigh_1</th>\n",
       "      <th>Thigh_2</th>\n",
       "      <th>Thigh_3</th>\n",
       "      <th>Trunk_1</th>\n",
       "      <th>Trunk_2</th>\n",
       "      <th>Trunk_3</th>\n",
       "      <th>status</th>\n",
       "    </tr>\n",
       "  </thead>\n",
       "  <tbody>\n",
       "    <tr>\n",
       "      <th>15999</th>\n",
       "      <td>250000</td>\n",
       "      <td>-161</td>\n",
       "      <td>1029</td>\n",
       "      <td>99</td>\n",
       "      <td>-190</td>\n",
       "      <td>981</td>\n",
       "      <td>171</td>\n",
       "      <td>58</td>\n",
       "      <td>1028</td>\n",
       "      <td>116</td>\n",
       "      <td>1</td>\n",
       "    </tr>\n",
       "    <tr>\n",
       "      <th>16000</th>\n",
       "      <td>250015</td>\n",
       "      <td>-131</td>\n",
       "      <td>1019</td>\n",
       "      <td>89</td>\n",
       "      <td>-136</td>\n",
       "      <td>972</td>\n",
       "      <td>151</td>\n",
       "      <td>38</td>\n",
       "      <td>1000</td>\n",
       "      <td>106</td>\n",
       "      <td>1</td>\n",
       "    </tr>\n",
       "    <tr>\n",
       "      <th>16001</th>\n",
       "      <td>250031</td>\n",
       "      <td>-121</td>\n",
       "      <td>1019</td>\n",
       "      <td>99</td>\n",
       "      <td>-100</td>\n",
       "      <td>981</td>\n",
       "      <td>111</td>\n",
       "      <td>9</td>\n",
       "      <td>990</td>\n",
       "      <td>155</td>\n",
       "      <td>1</td>\n",
       "    </tr>\n",
       "    <tr>\n",
       "      <th>16002</th>\n",
       "      <td>250046</td>\n",
       "      <td>-111</td>\n",
       "      <td>1029</td>\n",
       "      <td>69</td>\n",
       "      <td>-81</td>\n",
       "      <td>981</td>\n",
       "      <td>90</td>\n",
       "      <td>29</td>\n",
       "      <td>1000</td>\n",
       "      <td>126</td>\n",
       "      <td>1</td>\n",
       "    </tr>\n",
       "    <tr>\n",
       "      <th>16003</th>\n",
       "      <td>250062</td>\n",
       "      <td>-101</td>\n",
       "      <td>1019</td>\n",
       "      <td>59</td>\n",
       "      <td>-81</td>\n",
       "      <td>981</td>\n",
       "      <td>90</td>\n",
       "      <td>0</td>\n",
       "      <td>990</td>\n",
       "      <td>155</td>\n",
       "      <td>1</td>\n",
       "    </tr>\n",
       "  </tbody>\n",
       "</table>\n",
       "</div>"
      ],
      "text/plain": [
       "       Time of sample  Ankle_1  Ankle_2  Ankle_3  Thigh_1  Thigh_2  Thigh_3  \\\n",
       "15999          250000     -161     1029       99     -190      981      171   \n",
       "16000          250015     -131     1019       89     -136      972      151   \n",
       "16001          250031     -121     1019       99     -100      981      111   \n",
       "16002          250046     -111     1029       69      -81      981       90   \n",
       "16003          250062     -101     1019       59      -81      981       90   \n",
       "\n",
       "       Trunk_1  Trunk_2  Trunk_3  status  \n",
       "15999       58     1028      116       1  \n",
       "16000       38     1000      106       1  \n",
       "16001        9      990      155       1  \n",
       "16002       29     1000      126       1  \n",
       "16003        0      990      155       1  "
      ]
     },
     "execution_count": 41,
     "metadata": {},
     "output_type": "execute_result"
    }
   ],
   "source": [
    "# ignoring status = 0 as it's not part of the experiment\n",
    "for i in range(len(df)):\n",
    "    df[i] = df[i][df[i].status != 0]\n"
   ]
  },
  {
   "cell_type": "code",
   "execution_count": 60,
   "metadata": {},
   "outputs": [
    {
     "data": {
      "text/plain": [
       "1140835"
      ]
     },
     "execution_count": 60,
     "metadata": {},
     "output_type": "execute_result"
    }
   ],
   "source": [
    "l = []\n",
    "for i in range(17):\n",
    "    l.append(df[i].shape)\n",
    "l\n",
    "s = 0\n",
    "for i in l:\n",
    "    s = s + i[0]\n",
    "s"
   ]
  },
  {
   "cell_type": "code",
   "execution_count": 195,
   "metadata": {},
   "outputs": [],
   "source": [
    "#aggregate values of ankle_1, ankle_2 and ankle_3 into a single averaged value ankle, same for thigh, trunk\n",
    "\n",
    "# def aggFeatures(df, feature1, feature2, feature3):\n",
    "#     a = range(1,3)\n",
    "#     s1 = [feature1 + \"_\" + str(i) for i in range(1,4)]\n",
    "#     s2 = [feature2 + \"_\" + str(i) for i in range(1,4)]\n",
    "#     s3 = [feature3 + \"_\" + str(i) for i in range(1,4)]\n",
    "        \n",
    "#     for i in range(len(df)):\n",
    "#             df[i][feature1] = abs(df[i][s1[0]]) + abs(df[i][s1[1]]) + abs(df[i][s1[2]])\n",
    "#             df[i][feature2] = abs(df[i][s2[0]]) + abs(df[i][s2[1]]) + abs(df[i][s2[2]])\n",
    "#             df[i][feature3] = abs(df[i][s3[0]]) + abs(df[i][s3[1]]) + abs(df[i][s3[2]])\n",
    "def aggFeatures(df, feature1, feature2, feature3):\n",
    "    a = range(1,3)\n",
    "    s1 = [feature1 + \"_\" + str(i) for i in range(1,4)]\n",
    "    s2 = [feature2 + \"_\" + str(i) for i in range(1,4)]\n",
    "    s3 = [feature3 + \"_\" + str(i) for i in range(1,4)]\n",
    "        \n",
    "    for i in range(len(df)):\n",
    "            df[i][feature1] = (df[i][s1[0]]) + (df[i][s1[1]]) + (df[i][s1[2]])\n",
    "            df[i][feature2] = (df[i][s2[0]]) + (df[i][s2[1]]) + (df[i][s2[2]])\n",
    "            df[i][feature3] = (df[i][s3[0]]) + (df[i][s3[1]]) + (df[i][s3[2]])\n",
    "                        "
   ]
  },
  {
   "cell_type": "code",
   "execution_count": 196,
   "metadata": {},
   "outputs": [
    {
     "data": {
      "text/html": [
       "<div>\n",
       "<style scoped>\n",
       "    .dataframe tbody tr th:only-of-type {\n",
       "        vertical-align: middle;\n",
       "    }\n",
       "\n",
       "    .dataframe tbody tr th {\n",
       "        vertical-align: top;\n",
       "    }\n",
       "\n",
       "    .dataframe thead th {\n",
       "        text-align: right;\n",
       "    }\n",
       "</style>\n",
       "<table border=\"1\" class=\"dataframe\">\n",
       "  <thead>\n",
       "    <tr style=\"text-align: right;\">\n",
       "      <th></th>\n",
       "      <th>Time of sample</th>\n",
       "      <th>Ankle_1</th>\n",
       "      <th>Ankle_2</th>\n",
       "      <th>Ankle_3</th>\n",
       "      <th>Thigh_1</th>\n",
       "      <th>Thigh_2</th>\n",
       "      <th>Thigh_3</th>\n",
       "      <th>Trunk_1</th>\n",
       "      <th>Trunk_2</th>\n",
       "      <th>Trunk_3</th>\n",
       "      <th>status</th>\n",
       "      <th>Ankle</th>\n",
       "      <th>Thigh</th>\n",
       "      <th>Trunk</th>\n",
       "    </tr>\n",
       "  </thead>\n",
       "  <tbody>\n",
       "    <tr>\n",
       "      <th>15999</th>\n",
       "      <td>250000</td>\n",
       "      <td>-161</td>\n",
       "      <td>1029</td>\n",
       "      <td>99</td>\n",
       "      <td>-190</td>\n",
       "      <td>981</td>\n",
       "      <td>171</td>\n",
       "      <td>58</td>\n",
       "      <td>1028</td>\n",
       "      <td>116</td>\n",
       "      <td>1</td>\n",
       "      <td>967</td>\n",
       "      <td>962</td>\n",
       "      <td>1202</td>\n",
       "    </tr>\n",
       "    <tr>\n",
       "      <th>16000</th>\n",
       "      <td>250015</td>\n",
       "      <td>-131</td>\n",
       "      <td>1019</td>\n",
       "      <td>89</td>\n",
       "      <td>-136</td>\n",
       "      <td>972</td>\n",
       "      <td>151</td>\n",
       "      <td>38</td>\n",
       "      <td>1000</td>\n",
       "      <td>106</td>\n",
       "      <td>1</td>\n",
       "      <td>977</td>\n",
       "      <td>987</td>\n",
       "      <td>1144</td>\n",
       "    </tr>\n",
       "    <tr>\n",
       "      <th>16001</th>\n",
       "      <td>250031</td>\n",
       "      <td>-121</td>\n",
       "      <td>1019</td>\n",
       "      <td>99</td>\n",
       "      <td>-100</td>\n",
       "      <td>981</td>\n",
       "      <td>111</td>\n",
       "      <td>9</td>\n",
       "      <td>990</td>\n",
       "      <td>155</td>\n",
       "      <td>1</td>\n",
       "      <td>997</td>\n",
       "      <td>992</td>\n",
       "      <td>1154</td>\n",
       "    </tr>\n",
       "    <tr>\n",
       "      <th>16002</th>\n",
       "      <td>250046</td>\n",
       "      <td>-111</td>\n",
       "      <td>1029</td>\n",
       "      <td>69</td>\n",
       "      <td>-81</td>\n",
       "      <td>981</td>\n",
       "      <td>90</td>\n",
       "      <td>29</td>\n",
       "      <td>1000</td>\n",
       "      <td>126</td>\n",
       "      <td>1</td>\n",
       "      <td>987</td>\n",
       "      <td>990</td>\n",
       "      <td>1155</td>\n",
       "    </tr>\n",
       "    <tr>\n",
       "      <th>16003</th>\n",
       "      <td>250062</td>\n",
       "      <td>-101</td>\n",
       "      <td>1019</td>\n",
       "      <td>59</td>\n",
       "      <td>-81</td>\n",
       "      <td>981</td>\n",
       "      <td>90</td>\n",
       "      <td>0</td>\n",
       "      <td>990</td>\n",
       "      <td>155</td>\n",
       "      <td>1</td>\n",
       "      <td>977</td>\n",
       "      <td>990</td>\n",
       "      <td>1145</td>\n",
       "    </tr>\n",
       "  </tbody>\n",
       "</table>\n",
       "</div>"
      ],
      "text/plain": [
       "       Time of sample  Ankle_1  Ankle_2  Ankle_3  Thigh_1  Thigh_2  Thigh_3  \\\n",
       "15999          250000     -161     1029       99     -190      981      171   \n",
       "16000          250015     -131     1019       89     -136      972      151   \n",
       "16001          250031     -121     1019       99     -100      981      111   \n",
       "16002          250046     -111     1029       69      -81      981       90   \n",
       "16003          250062     -101     1019       59      -81      981       90   \n",
       "\n",
       "       Trunk_1  Trunk_2  Trunk_3  status  Ankle  Thigh  Trunk  \n",
       "15999       58     1028      116       1    967    962   1202  \n",
       "16000       38     1000      106       1    977    987   1144  \n",
       "16001        9      990      155       1    997    992   1154  \n",
       "16002       29     1000      126       1    987    990   1155  \n",
       "16003        0      990      155       1    977    990   1145  "
      ]
     },
     "execution_count": 196,
     "metadata": {},
     "output_type": "execute_result"
    }
   ],
   "source": [
    "#check the dataset \n",
    "\n",
    "aggFeatures(df, \"Ankle\", \"Thigh\", \"Trunk\")\n",
    "df[0].head()"
   ]
  },
  {
   "cell_type": "code",
   "execution_count": 80,
   "metadata": {},
   "outputs": [
    {
     "data": {
      "text/html": [
       "<div>\n",
       "<style scoped>\n",
       "    .dataframe tbody tr th:only-of-type {\n",
       "        vertical-align: middle;\n",
       "    }\n",
       "\n",
       "    .dataframe tbody tr th {\n",
       "        vertical-align: top;\n",
       "    }\n",
       "\n",
       "    .dataframe thead th {\n",
       "        text-align: right;\n",
       "    }\n",
       "</style>\n",
       "<table border=\"1\" class=\"dataframe\">\n",
       "  <thead>\n",
       "    <tr style=\"text-align: right;\">\n",
       "      <th></th>\n",
       "      <th>Time of sample</th>\n",
       "      <th>Ankle_1</th>\n",
       "      <th>Ankle_2</th>\n",
       "      <th>Ankle_3</th>\n",
       "      <th>Thigh_1</th>\n",
       "      <th>Thigh_2</th>\n",
       "      <th>Thigh_3</th>\n",
       "      <th>Trunk_1</th>\n",
       "      <th>Trunk_2</th>\n",
       "      <th>Trunk_3</th>\n",
       "      <th>status</th>\n",
       "      <th>Ankle</th>\n",
       "      <th>Thigh</th>\n",
       "      <th>Trunk</th>\n",
       "    </tr>\n",
       "  </thead>\n",
       "  <tbody>\n",
       "    <tr>\n",
       "      <th>15999</th>\n",
       "      <td>250000</td>\n",
       "      <td>-161</td>\n",
       "      <td>1029</td>\n",
       "      <td>99</td>\n",
       "      <td>-190</td>\n",
       "      <td>981</td>\n",
       "      <td>171</td>\n",
       "      <td>58</td>\n",
       "      <td>1028</td>\n",
       "      <td>116</td>\n",
       "      <td>1</td>\n",
       "      <td>1289</td>\n",
       "      <td>1342</td>\n",
       "      <td>1202</td>\n",
       "    </tr>\n",
       "    <tr>\n",
       "      <th>16000</th>\n",
       "      <td>250015</td>\n",
       "      <td>-131</td>\n",
       "      <td>1019</td>\n",
       "      <td>89</td>\n",
       "      <td>-136</td>\n",
       "      <td>972</td>\n",
       "      <td>151</td>\n",
       "      <td>38</td>\n",
       "      <td>1000</td>\n",
       "      <td>106</td>\n",
       "      <td>1</td>\n",
       "      <td>1239</td>\n",
       "      <td>1259</td>\n",
       "      <td>1144</td>\n",
       "    </tr>\n",
       "    <tr>\n",
       "      <th>16001</th>\n",
       "      <td>250031</td>\n",
       "      <td>-121</td>\n",
       "      <td>1019</td>\n",
       "      <td>99</td>\n",
       "      <td>-100</td>\n",
       "      <td>981</td>\n",
       "      <td>111</td>\n",
       "      <td>9</td>\n",
       "      <td>990</td>\n",
       "      <td>155</td>\n",
       "      <td>1</td>\n",
       "      <td>1239</td>\n",
       "      <td>1192</td>\n",
       "      <td>1154</td>\n",
       "    </tr>\n",
       "    <tr>\n",
       "      <th>16002</th>\n",
       "      <td>250046</td>\n",
       "      <td>-111</td>\n",
       "      <td>1029</td>\n",
       "      <td>69</td>\n",
       "      <td>-81</td>\n",
       "      <td>981</td>\n",
       "      <td>90</td>\n",
       "      <td>29</td>\n",
       "      <td>1000</td>\n",
       "      <td>126</td>\n",
       "      <td>1</td>\n",
       "      <td>1209</td>\n",
       "      <td>1152</td>\n",
       "      <td>1155</td>\n",
       "    </tr>\n",
       "    <tr>\n",
       "      <th>16003</th>\n",
       "      <td>250062</td>\n",
       "      <td>-101</td>\n",
       "      <td>1019</td>\n",
       "      <td>59</td>\n",
       "      <td>-81</td>\n",
       "      <td>981</td>\n",
       "      <td>90</td>\n",
       "      <td>0</td>\n",
       "      <td>990</td>\n",
       "      <td>155</td>\n",
       "      <td>1</td>\n",
       "      <td>1179</td>\n",
       "      <td>1152</td>\n",
       "      <td>1145</td>\n",
       "    </tr>\n",
       "  </tbody>\n",
       "</table>\n",
       "</div>"
      ],
      "text/plain": [
       "       Time of sample  Ankle_1  Ankle_2  Ankle_3  Thigh_1  Thigh_2  Thigh_3  \\\n",
       "15999          250000     -161     1029       99     -190      981      171   \n",
       "16000          250015     -131     1019       89     -136      972      151   \n",
       "16001          250031     -121     1019       99     -100      981      111   \n",
       "16002          250046     -111     1029       69      -81      981       90   \n",
       "16003          250062     -101     1019       59      -81      981       90   \n",
       "\n",
       "       Trunk_1  Trunk_2  Trunk_3  status  Ankle  Thigh  Trunk  \n",
       "15999       58     1028      116       1   1289   1342   1202  \n",
       "16000       38     1000      106       1   1239   1259   1144  \n",
       "16001        9      990      155       1   1239   1192   1154  \n",
       "16002       29     1000      126       1   1209   1152   1155  \n",
       "16003        0      990      155       1   1179   1152   1145  "
      ]
     },
     "execution_count": 80,
     "metadata": {},
     "output_type": "execute_result"
    }
   ],
   "source": [
    "i = 0\n",
    "df[i][df[i].status == 1].head()"
   ]
  },
  {
   "cell_type": "code",
   "execution_count": 197,
   "metadata": {},
   "outputs": [],
   "source": [
    "#selecting only status \"1\" and \"2\", \"no FOG\" and \"FOG\"\n",
    "df_1 = []\n",
    "df_2 = []\n",
    "\n",
    "for i in range(17):\n",
    "    df_1.append(df[i][df[i].status == 1])\n",
    "    df_2.append(df[i][df[i].status == 2])\n"
   ]
  },
  {
   "cell_type": "code",
   "execution_count": null,
   "metadata": {},
   "outputs": [],
   "source": []
  },
  {
   "cell_type": "code",
   "execution_count": 198,
   "metadata": {},
   "outputs": [
    {
     "data": {
      "text/plain": [
       "(1030050, 14)"
      ]
     },
     "execution_count": 198,
     "metadata": {},
     "output_type": "execute_result"
    }
   ],
   "source": [
    "# adding all \"Non-FOG\" into df_normal dataset\n",
    "\n",
    "df_normal = df_1[0]\n",
    "\n",
    "for i in range(1,17):\n",
    "    df_normal = pd.concat([df_normal, df_1[i]])\n",
    "\n",
    "df_normal.shape"
   ]
  },
  {
   "cell_type": "code",
   "execution_count": 199,
   "metadata": {},
   "outputs": [
    {
     "data": {
      "text/plain": [
       "(110785, 14)"
      ]
     },
     "execution_count": 199,
     "metadata": {},
     "output_type": "execute_result"
    }
   ],
   "source": [
    "# adding all \"FOG\" into df_fog dataset\n",
    "\n",
    "df_fog = df_2[0]\n",
    "\n",
    "for i in range(1,17):\n",
    "    df_fog = pd.concat([df_fog, df_2[i]])\n",
    "\n",
    "df_fog.shape"
   ]
  },
  {
   "cell_type": "code",
   "execution_count": 200,
   "metadata": {},
   "outputs": [
    {
     "data": {
      "text/plain": [
       "1140835"
      ]
     },
     "execution_count": 200,
     "metadata": {},
     "output_type": "execute_result"
    }
   ],
   "source": [
    "# checking if the entire dataset was concatenated without hiccups \n",
    "\n",
    "df_normal.shape[0] + df_fog.shape[0]"
   ]
  },
  {
   "cell_type": "markdown",
   "metadata": {},
   "source": [
    "##### WE can proceed to explore the data and see the relationships between the different features"
   ]
  },
  {
   "cell_type": "code",
   "execution_count": 201,
   "metadata": {},
   "outputs": [
    {
     "data": {
      "text/plain": [
       "<matplotlib.axes._subplots.AxesSubplot at 0x7f980f23d4e0>"
      ]
     },
     "execution_count": 201,
     "metadata": {},
     "output_type": "execute_result"
    },
    {
     "data": {
      "image/png": "[encoded data removed]",
      "text/plain": [
       "<Figure size 432x288 with 1 Axes>"
      ]
     },
     "metadata": {},
     "output_type": "display_data"
    }
   ],
   "source": [
    "import seaborn as sns\n",
    "sns.set(style=\"ticks\", color_codes=True)\n",
    "\n",
    "sns.boxplot(data=df_normal[[\"Ankle_1\", \"Ankle_2\", \"Ankle_3\"]])\n",
    "# sns.boxplot(x=df[0][\"Ankle_1\"])\n",
    "# df_normal[[\"Ankle_1\", \"Ankle_2\", \"Ankle_3\"]].describe()"
   ]
  },
  {
   "cell_type": "code",
   "execution_count": 185,
   "metadata": {},
   "outputs": [
    {
     "data": {
      "text/plain": [
       "<matplotlib.axes._subplots.AxesSubplot at 0x7f980f1eed30>"
      ]
     },
     "execution_count": 185,
     "metadata": {},
     "output_type": "execute_result"
    },
    {
     "data": {
      "image/png": "[encoded data removed]",
      "text/plain": [
       "<Figure size 432x288 with 1 Axes>"
      ]
     },
     "metadata": {},
     "output_type": "display_data"
    }
   ],
   "source": [
    "sns.boxplot(data=df_normal[[\"Thigh_1\", \"Thigh_2\", \"Thigh_3\"]])"
   ]
  },
  {
   "cell_type": "code",
   "execution_count": 186,
   "metadata": {},
   "outputs": [
    {
     "data": {
      "text/plain": [
       "<matplotlib.axes._subplots.AxesSubplot at 0x7f980f16a668>"
      ]
     },
     "execution_count": 186,
     "metadata": {},
     "output_type": "execute_result"
    },
    {
     "data": {
      "image/png": "[encoded data removed]",
      "text/plain": [
       "<Figure size 432x288 with 1 Axes>"
      ]
     },
     "metadata": {},
     "output_type": "display_data"
    }
   ],
   "source": [
    "sns.boxplot(data=df_normal[[\"Trunk_1\", \"Trunk_2\", \"Trunk_3\"]])"
   ]
  },
  {
   "cell_type": "markdown",
   "metadata": {},
   "source": [
    "We see that for \"Non-FOG\" events the data for ankles, thigh and trunk is very wide"
   ]
  },
  {
   "cell_type": "code",
   "execution_count": 187,
   "metadata": {},
   "outputs": [
    {
     "data": {
      "text/plain": [
       "<matplotlib.axes._subplots.AxesSubplot at 0x7f980f0e60f0>"
      ]
     },
     "execution_count": 187,
     "metadata": {},
     "output_type": "execute_result"
    },
    {
     "data": {
      "image/png": "[encoded data removed]",
      "text/plain": [
       "<Figure size 432x288 with 1 Axes>"
      ]
     },
     "metadata": {},
     "output_type": "display_data"
    }
   ],
   "source": [
    "sns.boxplot(data=df_fog[[\"Ankle_1\", \"Ankle_2\", \"Ankle_3\"]])"
   ]
  },
  {
   "cell_type": "code",
   "execution_count": 188,
   "metadata": {},
   "outputs": [
    {
     "data": {
      "text/plain": [
       "<matplotlib.axes._subplots.AxesSubplot at 0x7f980f05a2e8>"
      ]
     },
     "execution_count": 188,
     "metadata": {},
     "output_type": "execute_result"
    },
    {
     "data": {
      "image/png": "[encoded data removed]",
      "text/plain": [
       "<Figure size 432x288 with 1 Axes>"
      ]
     },
     "metadata": {},
     "output_type": "display_data"
    }
   ],
   "source": [
    "sns.boxplot(data=df_fog[[\"Thigh_1\", \"Thigh_2\", \"Thigh_3\"]])"
   ]
  },
  {
   "cell_type": "code",
   "execution_count": 189,
   "metadata": {},
   "outputs": [
    {
     "data": {
      "text/plain": [
       "<matplotlib.axes._subplots.AxesSubplot at 0x7f980efd8dd8>"
      ]
     },
     "execution_count": 189,
     "metadata": {},
     "output_type": "execute_result"
    },
    {
     "data": {
      "image/png": "[encoded data removed]",
      "text/plain": [
       "<Figure size 432x288 with 1 Axes>"
      ]
     },
     "metadata": {},
     "output_type": "display_data"
    }
   ],
   "source": [
    "sns.boxplot(data=df_fog[[\"Trunk_1\", \"Trunk_2\", \"Trunk_3\"]])"
   ]
  },
  {
   "cell_type": "markdown",
   "metadata": {},
   "source": [
    "##### We can see the correlation between the different variables"
   ]
  },
  {
   "cell_type": "code",
   "execution_count": 204,
   "metadata": {},
   "outputs": [
    {
     "data": {
      "text/html": [
       "<div>\n",
       "<style scoped>\n",
       "    .dataframe tbody tr th:only-of-type {\n",
       "        vertical-align: middle;\n",
       "    }\n",
       "\n",
       "    .dataframe tbody tr th {\n",
       "        vertical-align: top;\n",
       "    }\n",
       "\n",
       "    .dataframe thead th {\n",
       "        text-align: right;\n",
       "    }\n",
       "</style>\n",
       "<table border=\"1\" class=\"dataframe\">\n",
       "  <thead>\n",
       "    <tr style=\"text-align: right;\">\n",
       "      <th></th>\n",
       "      <th>Time of sample</th>\n",
       "      <th>Ankle_1</th>\n",
       "      <th>Ankle_2</th>\n",
       "      <th>Ankle_3</th>\n",
       "      <th>Thigh_1</th>\n",
       "      <th>Thigh_2</th>\n",
       "      <th>Thigh_3</th>\n",
       "      <th>Trunk_1</th>\n",
       "      <th>Trunk_2</th>\n",
       "      <th>Trunk_3</th>\n",
       "      <th>status</th>\n",
       "      <th>Ankle</th>\n",
       "      <th>Thigh</th>\n",
       "      <th>Trunk</th>\n",
       "    </tr>\n",
       "  </thead>\n",
       "  <tbody>\n",
       "    <tr>\n",
       "      <th>Time of sample</th>\n",
       "      <td>1.000000</td>\n",
       "      <td>-0.099294</td>\n",
       "      <td>-0.062389</td>\n",
       "      <td>-0.031591</td>\n",
       "      <td>0.053845</td>\n",
       "      <td>-0.304672</td>\n",
       "      <td>-0.045569</td>\n",
       "      <td>-0.045076</td>\n",
       "      <td>-0.262843</td>\n",
       "      <td>-0.011670</td>\n",
       "      <td>NaN</td>\n",
       "      <td>-0.121819</td>\n",
       "      <td>-0.134088</td>\n",
       "      <td>-0.175623</td>\n",
       "    </tr>\n",
       "    <tr>\n",
       "      <th>Ankle_1</th>\n",
       "      <td>-0.099294</td>\n",
       "      <td>1.000000</td>\n",
       "      <td>0.039519</td>\n",
       "      <td>-0.055649</td>\n",
       "      <td>-0.219606</td>\n",
       "      <td>0.060443</td>\n",
       "      <td>0.109254</td>\n",
       "      <td>-0.027327</td>\n",
       "      <td>0.068703</td>\n",
       "      <td>0.013727</td>\n",
       "      <td>NaN</td>\n",
       "      <td>0.773940</td>\n",
       "      <td>-0.101327</td>\n",
       "      <td>0.031119</td>\n",
       "    </tr>\n",
       "    <tr>\n",
       "      <th>Ankle_2</th>\n",
       "      <td>-0.062389</td>\n",
       "      <td>0.039519</td>\n",
       "      <td>1.000000</td>\n",
       "      <td>-0.075682</td>\n",
       "      <td>-0.018855</td>\n",
       "      <td>0.179117</td>\n",
       "      <td>-0.117413</td>\n",
       "      <td>-0.074045</td>\n",
       "      <td>0.061264</td>\n",
       "      <td>-0.131806</td>\n",
       "      <td>NaN</td>\n",
       "      <td>0.487021</td>\n",
       "      <td>0.033434</td>\n",
       "      <td>-0.086326</td>\n",
       "    </tr>\n",
       "    <tr>\n",
       "      <th>Ankle_3</th>\n",
       "      <td>-0.031591</td>\n",
       "      <td>-0.055649</td>\n",
       "      <td>-0.075682</td>\n",
       "      <td>1.000000</td>\n",
       "      <td>-0.012299</td>\n",
       "      <td>-0.103762</td>\n",
       "      <td>0.102153</td>\n",
       "      <td>0.071074</td>\n",
       "      <td>-0.040086</td>\n",
       "      <td>0.142971</td>\n",
       "      <td>NaN</td>\n",
       "      <td>0.360056</td>\n",
       "      <td>-0.024720</td>\n",
       "      <td>0.103073</td>\n",
       "    </tr>\n",
       "    <tr>\n",
       "      <th>Thigh_1</th>\n",
       "      <td>0.053845</td>\n",
       "      <td>-0.219606</td>\n",
       "      <td>-0.018855</td>\n",
       "      <td>-0.012299</td>\n",
       "      <td>1.000000</td>\n",
       "      <td>0.025257</td>\n",
       "      <td>-0.120790</td>\n",
       "      <td>0.156113</td>\n",
       "      <td>-0.029004</td>\n",
       "      <td>0.117088</td>\n",
       "      <td>NaN</td>\n",
       "      <td>-0.185744</td>\n",
       "      <td>0.763911</td>\n",
       "      <td>0.139684</td>\n",
       "    </tr>\n",
       "    <tr>\n",
       "      <th>Thigh_2</th>\n",
       "      <td>-0.304672</td>\n",
       "      <td>0.060443</td>\n",
       "      <td>0.179117</td>\n",
       "      <td>-0.103762</td>\n",
       "      <td>0.025257</td>\n",
       "      <td>1.000000</td>\n",
       "      <td>-0.012395</td>\n",
       "      <td>-0.140123</td>\n",
       "      <td>0.423303</td>\n",
       "      <td>-0.328985</td>\n",
       "      <td>NaN</td>\n",
       "      <td>0.089077</td>\n",
       "      <td>0.538697</td>\n",
       "      <td>-0.042974</td>\n",
       "    </tr>\n",
       "    <tr>\n",
       "      <th>Thigh_3</th>\n",
       "      <td>-0.045569</td>\n",
       "      <td>0.109254</td>\n",
       "      <td>-0.117413</td>\n",
       "      <td>0.102153</td>\n",
       "      <td>-0.120790</td>\n",
       "      <td>-0.012395</td>\n",
       "      <td>1.000000</td>\n",
       "      <td>0.046133</td>\n",
       "      <td>0.023700</td>\n",
       "      <td>0.222862</td>\n",
       "      <td>NaN</td>\n",
       "      <td>0.072633</td>\n",
       "      <td>0.282791</td>\n",
       "      <td>0.172798</td>\n",
       "    </tr>\n",
       "    <tr>\n",
       "      <th>Trunk_1</th>\n",
       "      <td>-0.045076</td>\n",
       "      <td>-0.027327</td>\n",
       "      <td>-0.074045</td>\n",
       "      <td>0.071074</td>\n",
       "      <td>0.156113</td>\n",
       "      <td>-0.140123</td>\n",
       "      <td>0.046133</td>\n",
       "      <td>1.000000</td>\n",
       "      <td>-0.078030</td>\n",
       "      <td>0.230121</td>\n",
       "      <td>NaN</td>\n",
       "      <td>-0.026235</td>\n",
       "      <td>0.068920</td>\n",
       "      <td>0.639485</td>\n",
       "    </tr>\n",
       "    <tr>\n",
       "      <th>Trunk_2</th>\n",
       "      <td>-0.262843</td>\n",
       "      <td>0.068703</td>\n",
       "      <td>0.061264</td>\n",
       "      <td>-0.040086</td>\n",
       "      <td>-0.029004</td>\n",
       "      <td>0.423303</td>\n",
       "      <td>0.023700</td>\n",
       "      <td>-0.078030</td>\n",
       "      <td>1.000000</td>\n",
       "      <td>-0.099173</td>\n",
       "      <td>NaN</td>\n",
       "      <td>0.065863</td>\n",
       "      <td>0.207545</td>\n",
       "      <td>0.445837</td>\n",
       "    </tr>\n",
       "    <tr>\n",
       "      <th>Trunk_3</th>\n",
       "      <td>-0.011670</td>\n",
       "      <td>0.013727</td>\n",
       "      <td>-0.131806</td>\n",
       "      <td>0.142971</td>\n",
       "      <td>0.117088</td>\n",
       "      <td>-0.328985</td>\n",
       "      <td>0.222862</td>\n",
       "      <td>0.230121</td>\n",
       "      <td>-0.099173</td>\n",
       "      <td>1.000000</td>\n",
       "      <td>NaN</td>\n",
       "      <td>0.009140</td>\n",
       "      <td>0.007110</td>\n",
       "      <td>0.675256</td>\n",
       "    </tr>\n",
       "    <tr>\n",
       "      <th>status</th>\n",
       "      <td>NaN</td>\n",
       "      <td>NaN</td>\n",
       "      <td>NaN</td>\n",
       "      <td>NaN</td>\n",
       "      <td>NaN</td>\n",
       "      <td>NaN</td>\n",
       "      <td>NaN</td>\n",
       "      <td>NaN</td>\n",
       "      <td>NaN</td>\n",
       "      <td>NaN</td>\n",
       "      <td>NaN</td>\n",
       "      <td>NaN</td>\n",
       "      <td>NaN</td>\n",
       "      <td>NaN</td>\n",
       "    </tr>\n",
       "    <tr>\n",
       "      <th>Ankle</th>\n",
       "      <td>-0.121819</td>\n",
       "      <td>0.773940</td>\n",
       "      <td>0.487021</td>\n",
       "      <td>0.360056</td>\n",
       "      <td>-0.185744</td>\n",
       "      <td>0.089077</td>\n",
       "      <td>0.072633</td>\n",
       "      <td>-0.026235</td>\n",
       "      <td>0.065863</td>\n",
       "      <td>0.009140</td>\n",
       "      <td>NaN</td>\n",
       "      <td>1.000000</td>\n",
       "      <td>-0.073464</td>\n",
       "      <td>0.027383</td>\n",
       "    </tr>\n",
       "    <tr>\n",
       "      <th>Thigh</th>\n",
       "      <td>-0.134088</td>\n",
       "      <td>-0.101327</td>\n",
       "      <td>0.033434</td>\n",
       "      <td>-0.024720</td>\n",
       "      <td>0.763911</td>\n",
       "      <td>0.538697</td>\n",
       "      <td>0.282791</td>\n",
       "      <td>0.068920</td>\n",
       "      <td>0.207545</td>\n",
       "      <td>0.007110</td>\n",
       "      <td>NaN</td>\n",
       "      <td>-0.073464</td>\n",
       "      <td>1.000000</td>\n",
       "      <td>0.155503</td>\n",
       "    </tr>\n",
       "    <tr>\n",
       "      <th>Trunk</th>\n",
       "      <td>-0.175623</td>\n",
       "      <td>0.031119</td>\n",
       "      <td>-0.086326</td>\n",
       "      <td>0.103073</td>\n",
       "      <td>0.139684</td>\n",
       "      <td>-0.042974</td>\n",
       "      <td>0.172798</td>\n",
       "      <td>0.639485</td>\n",
       "      <td>0.445837</td>\n",
       "      <td>0.675256</td>\n",
       "      <td>NaN</td>\n",
       "      <td>0.027383</td>\n",
       "      <td>0.155503</td>\n",
       "      <td>1.000000</td>\n",
       "    </tr>\n",
       "  </tbody>\n",
       "</table>\n",
       "</div>"
      ],
      "text/plain": [
       "                Time of sample   Ankle_1   Ankle_2   Ankle_3   Thigh_1  \\\n",
       "Time of sample        1.000000 -0.099294 -0.062389 -0.031591  0.053845   \n",
       "Ankle_1              -0.099294  1.000000  0.039519 -0.055649 -0.219606   \n",
       "Ankle_2              -0.062389  0.039519  1.000000 -0.075682 -0.018855   \n",
       "Ankle_3              -0.031591 -0.055649 -0.075682  1.000000 -0.012299   \n",
       "Thigh_1               0.053845 -0.219606 -0.018855 -0.012299  1.000000   \n",
       "Thigh_2              -0.304672  0.060443  0.179117 -0.103762  0.025257   \n",
       "Thigh_3              -0.045569  0.109254 -0.117413  0.102153 -0.120790   \n",
       "Trunk_1              -0.045076 -0.027327 -0.074045  0.071074  0.156113   \n",
       "Trunk_2              -0.262843  0.068703  0.061264 -0.040086 -0.029004   \n",
       "Trunk_3              -0.011670  0.013727 -0.131806  0.142971  0.117088   \n",
       "status                     NaN       NaN       NaN       NaN       NaN   \n",
       "Ankle                -0.121819  0.773940  0.487021  0.360056 -0.185744   \n",
       "Thigh                -0.134088 -0.101327  0.033434 -0.024720  0.763911   \n",
       "Trunk                -0.175623  0.031119 -0.086326  0.103073  0.139684   \n",
       "\n",
       "                 Thigh_2   Thigh_3   Trunk_1   Trunk_2   Trunk_3  status  \\\n",
       "Time of sample -0.304672 -0.045569 -0.045076 -0.262843 -0.011670     NaN   \n",
       "Ankle_1         0.060443  0.109254 -0.027327  0.068703  0.013727     NaN   \n",
       "Ankle_2         0.179117 -0.117413 -0.074045  0.061264 -0.131806     NaN   \n",
       "Ankle_3        -0.103762  0.102153  0.071074 -0.040086  0.142971     NaN   \n",
       "Thigh_1         0.025257 -0.120790  0.156113 -0.029004  0.117088     NaN   \n",
       "Thigh_2         1.000000 -0.012395 -0.140123  0.423303 -0.328985     NaN   \n",
       "Thigh_3        -0.012395  1.000000  0.046133  0.023700  0.222862     NaN   \n",
       "Trunk_1        -0.140123  0.046133  1.000000 -0.078030  0.230121     NaN   \n",
       "Trunk_2         0.423303  0.023700 -0.078030  1.000000 -0.099173     NaN   \n",
       "Trunk_3        -0.328985  0.222862  0.230121 -0.099173  1.000000     NaN   \n",
       "status               NaN       NaN       NaN       NaN       NaN     NaN   \n",
       "Ankle           0.089077  0.072633 -0.026235  0.065863  0.009140     NaN   \n",
       "Thigh           0.538697  0.282791  0.068920  0.207545  0.007110     NaN   \n",
       "Trunk          -0.042974  0.172798  0.639485  0.445837  0.675256     NaN   \n",
       "\n",
       "                   Ankle     Thigh     Trunk  \n",
       "Time of sample -0.121819 -0.134088 -0.175623  \n",
       "Ankle_1         0.773940 -0.101327  0.031119  \n",
       "Ankle_2         0.487021  0.033434 -0.086326  \n",
       "Ankle_3         0.360056 -0.024720  0.103073  \n",
       "Thigh_1        -0.185744  0.763911  0.139684  \n",
       "Thigh_2         0.089077  0.538697 -0.042974  \n",
       "Thigh_3         0.072633  0.282791  0.172798  \n",
       "Trunk_1        -0.026235  0.068920  0.639485  \n",
       "Trunk_2         0.065863  0.207545  0.445837  \n",
       "Trunk_3         0.009140  0.007110  0.675256  \n",
       "status               NaN       NaN       NaN  \n",
       "Ankle           1.000000 -0.073464  0.027383  \n",
       "Thigh          -0.073464  1.000000  0.155503  \n",
       "Trunk           0.027383  0.155503  1.000000  "
      ]
     },
     "execution_count": 204,
     "metadata": {},
     "output_type": "execute_result"
    }
   ],
   "source": [
    "df_normal.corr()"
   ]
  },
  {
   "cell_type": "code",
   "execution_count": 205,
   "metadata": {},
   "outputs": [
    {
     "data": {
      "text/plain": [
       "<matplotlib.axes._subplots.AxesSubplot at 0x7f980ed62080>"
      ]
     },
     "execution_count": 205,
     "metadata": {},
     "output_type": "execute_result"
    },
    {
     "data": {
      "image/png": "[encoded data removed]",
      "text/plain": [
       "<Figure size 432x288 with 2 Axes>"
      ]
     },
     "metadata": {},
     "output_type": "display_data"
    }
   ],
   "source": [
    "import seaborn as sns\n",
    "corr = df_normal.corr()\n",
    "sns.heatmap(corr, \n",
    "            xticklabels=corr.columns.values,\n",
    "            yticklabels=corr.columns.values)"
   ]
  },
  {
   "cell_type": "markdown",
   "metadata": {},
   "source": [
    "By examining the above correlation matrix, we can approximate the readings of \"Ankle_1\", \"Ankle_2\" and \"Ankle_3\" into a combined \"Ankle\" and repeat the same for \"Thigh\" and \"Trunk\""
   ]
  },
  {
   "cell_type": "code",
   "execution_count": 206,
   "metadata": {},
   "outputs": [
    {
     "data": {
      "text/html": [
       "<div>\n",
       "<style scoped>\n",
       "    .dataframe tbody tr th:only-of-type {\n",
       "        vertical-align: middle;\n",
       "    }\n",
       "\n",
       "    .dataframe tbody tr th {\n",
       "        vertical-align: top;\n",
       "    }\n",
       "\n",
       "    .dataframe thead th {\n",
       "        text-align: right;\n",
       "    }\n",
       "</style>\n",
       "<table border=\"1\" class=\"dataframe\">\n",
       "  <thead>\n",
       "    <tr style=\"text-align: right;\">\n",
       "      <th></th>\n",
       "      <th>Time of sample</th>\n",
       "      <th>Ankle_1</th>\n",
       "      <th>Ankle_2</th>\n",
       "      <th>Ankle_3</th>\n",
       "      <th>Thigh_1</th>\n",
       "      <th>Thigh_2</th>\n",
       "      <th>Thigh_3</th>\n",
       "      <th>Trunk_1</th>\n",
       "      <th>Trunk_2</th>\n",
       "      <th>Trunk_3</th>\n",
       "      <th>status</th>\n",
       "      <th>Ankle</th>\n",
       "      <th>Thigh</th>\n",
       "      <th>Trunk</th>\n",
       "    </tr>\n",
       "  </thead>\n",
       "  <tbody>\n",
       "    <tr>\n",
       "      <th>15999</th>\n",
       "      <td>250000</td>\n",
       "      <td>-161</td>\n",
       "      <td>1029</td>\n",
       "      <td>99</td>\n",
       "      <td>-190</td>\n",
       "      <td>981</td>\n",
       "      <td>171</td>\n",
       "      <td>58</td>\n",
       "      <td>1028</td>\n",
       "      <td>116</td>\n",
       "      <td>1</td>\n",
       "      <td>967</td>\n",
       "      <td>962</td>\n",
       "      <td>1202</td>\n",
       "    </tr>\n",
       "    <tr>\n",
       "      <th>16000</th>\n",
       "      <td>250015</td>\n",
       "      <td>-131</td>\n",
       "      <td>1019</td>\n",
       "      <td>89</td>\n",
       "      <td>-136</td>\n",
       "      <td>972</td>\n",
       "      <td>151</td>\n",
       "      <td>38</td>\n",
       "      <td>1000</td>\n",
       "      <td>106</td>\n",
       "      <td>1</td>\n",
       "      <td>977</td>\n",
       "      <td>987</td>\n",
       "      <td>1144</td>\n",
       "    </tr>\n",
       "    <tr>\n",
       "      <th>16001</th>\n",
       "      <td>250031</td>\n",
       "      <td>-121</td>\n",
       "      <td>1019</td>\n",
       "      <td>99</td>\n",
       "      <td>-100</td>\n",
       "      <td>981</td>\n",
       "      <td>111</td>\n",
       "      <td>9</td>\n",
       "      <td>990</td>\n",
       "      <td>155</td>\n",
       "      <td>1</td>\n",
       "      <td>997</td>\n",
       "      <td>992</td>\n",
       "      <td>1154</td>\n",
       "    </tr>\n",
       "    <tr>\n",
       "      <th>16002</th>\n",
       "      <td>250046</td>\n",
       "      <td>-111</td>\n",
       "      <td>1029</td>\n",
       "      <td>69</td>\n",
       "      <td>-81</td>\n",
       "      <td>981</td>\n",
       "      <td>90</td>\n",
       "      <td>29</td>\n",
       "      <td>1000</td>\n",
       "      <td>126</td>\n",
       "      <td>1</td>\n",
       "      <td>987</td>\n",
       "      <td>990</td>\n",
       "      <td>1155</td>\n",
       "    </tr>\n",
       "    <tr>\n",
       "      <th>16003</th>\n",
       "      <td>250062</td>\n",
       "      <td>-101</td>\n",
       "      <td>1019</td>\n",
       "      <td>59</td>\n",
       "      <td>-81</td>\n",
       "      <td>981</td>\n",
       "      <td>90</td>\n",
       "      <td>0</td>\n",
       "      <td>990</td>\n",
       "      <td>155</td>\n",
       "      <td>1</td>\n",
       "      <td>977</td>\n",
       "      <td>990</td>\n",
       "      <td>1145</td>\n",
       "    </tr>\n",
       "  </tbody>\n",
       "</table>\n",
       "</div>"
      ],
      "text/plain": [
       "       Time of sample  Ankle_1  Ankle_2  Ankle_3  Thigh_1  Thigh_2  Thigh_3  \\\n",
       "15999          250000     -161     1029       99     -190      981      171   \n",
       "16000          250015     -131     1019       89     -136      972      151   \n",
       "16001          250031     -121     1019       99     -100      981      111   \n",
       "16002          250046     -111     1029       69      -81      981       90   \n",
       "16003          250062     -101     1019       59      -81      981       90   \n",
       "\n",
       "       Trunk_1  Trunk_2  Trunk_3  status  Ankle  Thigh  Trunk  \n",
       "15999       58     1028      116       1    967    962   1202  \n",
       "16000       38     1000      106       1    977    987   1144  \n",
       "16001        9      990      155       1    997    992   1154  \n",
       "16002       29     1000      126       1    987    990   1155  \n",
       "16003        0      990      155       1    977    990   1145  "
      ]
     },
     "execution_count": 206,
     "metadata": {},
     "output_type": "execute_result"
    }
   ],
   "source": [
    "df_normal.head()"
   ]
  },
  {
   "cell_type": "code",
   "execution_count": 15,
   "metadata": {},
   "outputs": [
    {
     "data": {
      "text/plain": [
       "array([-524, -433, -484, ..., -614, -694, -634])"
      ]
     },
     "execution_count": 15,
     "metadata": {},
     "output_type": "execute_result"
    }
   ],
   "source": [
    "#\n",
    "\n",
    "df_1_avged = np.array([sum(df_1[\"Ankle_1\"].iloc[i:i+4]) for i in range(0,27256, 8)])\n",
    "df_1_avged"
   ]
  },
  {
   "cell_type": "code",
   "execution_count": 17,
   "metadata": {},
   "outputs": [
    {
     "data": {
      "image/png": "[encoded data removed]",
      "text/plain": [
       "<Figure size 576x576 with 1 Axes>"
      ]
     },
     "metadata": {
      "needs_background": "light"
     },
     "output_type": "display_data"
    }
   ],
   "source": [
    "\n",
    "from pyts.image import RecurrencePlots\n",
    "rp = RecurrencePlots(dimension=1,\n",
    "                     epsilon='percentage_points',\n",
    "                     percentage=30)\n",
    "\n",
    "X_rp = rp.fit_transform(df_1_avged.reshape(1,-1))\n",
    "# X_rp = rp.fit_transform(X)\n",
    "\n",
    "# Show the results for the first time series\n",
    "plt.figure(figsize=(8, 8))\n",
    "plt.imshow(X_rp[0], cmap='binary', origin='lower')\n",
    "plt.show()\n",
    "\n"
   ]
  },
  {
   "cell_type": "code",
   "execution_count": 19,
   "metadata": {},
   "outputs": [
    {
     "data": {
      "image/png": "[encoded data removed]",
      "text/plain": [
       "<Figure size 576x576 with 1 Axes>"
      ]
     },
     "metadata": {
      "needs_background": "light"
     },
     "output_type": "display_data"
    }
   ],
   "source": [
    "X_rp = rp.fit_transform(df_2[\"Ankle_1\"].values.reshape(1,-1))\n",
    "# X_rp = rp.fit_transform(X)\n",
    "\n",
    "# Show the results for the first time series\n",
    "plt.figure(figsize=(8, 8))\n",
    "plt.imshow(X_rp[0], cmap='binary', origin='lower')\n",
    "plt.show()\n"
   ]
  }
 ],
 "metadata": {
  "kernelspec": {
   "display_name": "Python 3",
   "language": "python",
   "name": "python3"
  },
  "language_info": {
   "codemirror_mode": {
    "name": "ipython",
    "version": 3
   },
   "file_extension": ".py",
   "mimetype": "text/x-python",
   "name": "python",
   "nbconvert_exporter": "python",
   "pygments_lexer": "ipython3",
   "version": "3.7.1"
  }
 },
 "nbformat": 4,
 "nbformat_minor": 2
}
