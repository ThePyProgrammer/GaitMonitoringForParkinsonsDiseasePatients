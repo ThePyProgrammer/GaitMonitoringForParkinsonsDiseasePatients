{
 "cells": [
  {
   "cell_type": "markdown",
   "metadata": {},
   "source": [
    "# Gait Monitoring for Parkinson's Disease Patients\n",
    "**Mentor**: Arthur Tay\n",
    "\n",
    "## Project Description\n",
    "The objective of this project is to monitor the gait patterns for people with Parkinson Disease. We will analyse the gait for PD patients during freezing and non-freezing (normal) events. Various parameters (e.g. cadence, step lengths, stride lengths, etc) related to gait will be derived from motion sensors (accelerometers, gyroscopes, magnetometers) using public datasets of PD patients. We will then investigate which of these parameters is most suitable for classification for freezing of gait in PD patients.\n",
    "\n",
    "## Final Product\n",
    "To make use of signal processing algorithms in extracting gait parameters from motion sensors and identifying most suitable parameters for classification of freezing of gait in PD patients.\n",
    "\n",
    "## Methodology\n",
    "Students will first need to review and understands how to extract gait parameters from motion sensors. There are different algorithms in the literature and they will need to investigate which is most suitable. They will then make use of a PD patient public dataset to test out their methods. If time permits, they will learn basic machine learning tools for classification.\n",
    "\n",
    "## [VGRF Dataset](https://physionet.org/content/gaitpdb/1.0.0/)\n",
    "### Data Description\n",
    "\n",
    "Parkinson's disease (PD) is one of the most common movement disorders, affecting approximately 1 million Americans (estimates range between 4 and 6.5 million people worldwide) and about 1% of older adults. In the US alone, 60,000 new cases are diagnosed each year. PD is a chronic and progressive neurological disorder that results in tremor, rigidity, slowness, and postural instability. A disturbed gait is a common, debilitating symptom; patients with severe gait disturbances are prone to falls and may lose their functional independence.\n",
    "\n",
    "This database contains measures of gait from 93 patients with idiopathic PD (mean age: 66.3 years; 63% men), and 73 healthy controls (mean age: 66.3 years; 55% men). The database includes the vertical ground reaction force records of subjects as they walked at their usual, self-selected pace for approximately 2 minutes on level ground. Underneath each foot were 8 sensors ([Ultraflex Computer Dyno Graphy, Infotronic Inc.](http://www.infotronic.nl/#CDG)) that measure force (in Newtons) as a function of time. The output of each of these 16 sensors has been digitized and recorded at 100 samples per second, and the records also include two signals that reflect the sum of the 8 sensor outputs for each foot. For details about the format of the data, please see [this note](https://physionet.org/content/gaitpdb/1.0.0/format.txt).\n",
    "\n",
    "With this information, one can investigate the force record as a function of time and location, derive measures that reflect the center-of-pressure as a function of time, and determine timing measures (e.g., stride time, swing time) for each foot as functions of time. Thus, one can study the stride-to-stride dynamics and the variability of these time series.\n",
    "\n",
    "This database also includes demographic information, measures of disease severity (i.e., using the Hoehn & Yahr staging and/or the Unified Parkinson's Disease Rating Scale) and other related measures (available in HTML or xls spreadsheet format).\n",
    "\n",
    "A subset of the database includes measures recorded as subjects performed a second task (serial 7 subtractions) while walking, as in the figure above, which shows excerpts of swing time series from a patient with PD (lower panels) and a control subject (upper panels), under usual walking conditions (at left) and when performing serial 7 subtractions (at right). Under usual walking conditions, variability is larger in the patient with PD (Coefficient of Variation = 2.7%), compared to the control subject (CV = 1.3%). Variability increases during dual tasking in the subject with PD (CV = 6.5%), but not in the control subject (CV = 1.2%). From Yogev et al. (reference [4] below).\n",
    "\n",
    "### Data format\n",
    "\n",
    "Each line contains 19 columns:\n",
    "\n",
    "| Column | Description |\n",
    "|--------|-------------|\n",
    "| 1 | Time (in seconds)|\n",
    "| 2-9 | **Vertical ground reaction force** (VGRF, in Newton) on each of 8 sensors located under the left foot |\n",
    "| 10-17 |VGRF on each of the 8 sensors located under the right foot |\n",
    "| 18 | Total force under the left foot |\n",
    "| 19 | Total force under the right foot |\n",
    "\n",
    "\n",
    "When a person is comfortably standing with both legs parallel to each\n",
    "other, sensor locations inside the insole can be described (according\n",
    "to the [Infotronic website](http://www.infotronic.nl/)) as lying\n",
    "approximately at the following (X,Y) coordinates, assuming that the\n",
    "origin (0,0) is just between the legs and the person is facing towards\n",
    "the positive side of the Y axis:\n",
    "\n",
    "| Sensor | X    | Y    |\n",
    "|--------|------|------|\n",
    "| L1     | -500 | -800 |\n",
    "| L2     | -700 | -400 |\n",
    "| L3     | -300 | -400 |\n",
    "| L4     | -700 | 0    |\n",
    "| L5     | -300 | 0    |\n",
    "| L6     | -700 | 400  |\n",
    "| L7     | -300 | 400  |\n",
    "| L8     | -500 | 800  |\n",
    "| R1     | 500  | -800 |\n",
    "| R2     | 700  | -400 |\n",
    "| R3     | 300  | -400 |\n",
    "| R4     | 700  | 0    |\n",
    "| R5     | 300  | 0    |\n",
    "| R6     | 700  | 400  |\n",
    "| R7     | 300  | 400  |\n",
    "| R8     | 500  | 800  |\n",
    "\n",
    "The X and Y numbers are in an arbitrary coordinate system reflecting\n",
    "the relative (arbitrarily scaled) positions of the sensors within each\n",
    "insole. During walking, the sensors inside each insole remain at the\n",
    "same relative position, but the two feet are no longer parallel to\n",
    "each other. Thus, this coordinate system enables a calculation of a\n",
    "proxy for the location of the center of pressure (COP) under each\n",
    "foot.\n",
    "\n",
    "--------------------------\n",
    "\n",
    "### Data file names\n",
    "These follow a common convention, e.g., ```GaCo01_02.txt```  or  ```JuPt03_06.txt```, where\n",
    "\n",
    "- Ga, Ju or Si – indicate the study from which the data originated:\n",
    " - Ga - Galit Yogev et al ([dual tasking in PD; Eur J Neuro, 2005](https://onlinelibrary.wiley.com/doi/abs/10.1111/j.1460-9568.2005.04298.x))\n",
    " - Ju – Hausdorff et al ([RAS in PD; Eur J Neuro, 2007](https://onlinelibrary.wiley.com/doi/abs/10.1111/j.1460-9568.2007.05810.x))\n",
    " - Si - Silvi Frenkel-Toledo et al ([Treadmill walking in PD; Mov Disorders, 2005](https://onlinelibrary.wiley.com/doi/abs/10.1002/mds.20507))\n",
    "\n",
    "- Co or Pt: Control subject or a PD Patient respectively\n",
    "\n",
    "- 01: Subject number in the group\n",
    "\n",
    "- A walk number of 10  (for the \"Ga\" study) indicates a dual-task walking,\n",
    "where the subject was engaged in serial-7 subtraction while walking.\n",
    "\n",
    "- A walk number of 01 refers to a usual, normal walk. \n",
    "\n",
    "The sampling rate was 100 Hz.\n",
    "\n",
    "### Set-Up and Imports"
   ]
  },
  {
   "cell_type": "code",
   "execution_count": null,
   "metadata": {},
   "outputs": [],
   "source": [
    "%load_ext autoreload\n",
    "%autoreload 2\n",
    "# to ensure kernel resets when files change around it"
   ]
  },
  {
   "cell_type": "code",
   "execution_count": null,
   "metadata": {},
   "outputs": [],
   "source": [
    "from forest import * # basically lazy imports everything we need to care about\n",
    "import np # main library for numeric calculations\n",
    "# import pandas as pd - main library for data analysis\n",
    "# import matplotlib.pyplot as plt - main library for data plotting\n",
    "from glob import glob # check files\n",
    "from math import *\n",
    "# import scipy as sp - STEM software\n",
    "# from scipy import signal\n",
    "\n",
    "\"\"\"\n",
    "pd.set_option('display.max_rows', None)\n",
    "pd.set_option('display.max_columns', None)\n",
    "pd.set_option('display.width', None)\n",
    "pd.set_option('display.max_colwidth', -1)\"\"\"\n",
    "\n",
    "warnings.filterwarnings('ignore') # literally to ignore all the warnings that don't matter\n",
    "\n",
    "%matplotlib inline\n",
    "# to place plotting inside the diagram"
   ]
  },
  {
   "cell_type": "markdown",
   "metadata": {},
   "source": [
    "### Get Data"
   ]
  },
  {
   "cell_type": "code",
   "execution_count": null,
   "metadata": {},
   "outputs": [],
   "source": [
    "vgrf = []\n",
    "VGRFnames = []\n",
    "for i in sorted(glob(\"vgrf/*.txt\")):\n",
    "    VGRFnames.append(i)\n",
    "    vgrf.append(pd.read_table(i, names=[\"time\"]+[\"VGRF_left_\"+str(i) for i in range(1, 9)]+[\"VGRF_right_\"+str(i) for i in range(1, 9)]+[\"VGRF_left\", \"VGRF_right\"]).set_index(\"time\"))\n",
    "\n",
    "vgrf[0]"
   ]
  },
  {
   "cell_type": "markdown",
   "metadata": {},
   "source": [
    "### Plot Data"
   ]
  },
  {
   "cell_type": "code",
   "execution_count": null,
   "metadata": {},
   "outputs": [],
   "source": [
    "for i in range(len(vgrf)):\n",
    "    name, dta = VGRFnames[i], vgrf[i]\n",
    "    print(name)\n",
    "    color = \"blue\" if \"Pt\" in name else \"red\"\n",
    "    plt.figure(num=None, figsize=(50, 25), dpi=80, facecolor='w', edgecolor='k')\n",
    "    plt.plot(dta.index, dta[['VGRF_left']], color=color)\n",
    "    plt.figure(num=None, figsize=(50, 25), dpi=80, facecolor='w', edgecolor='k')\n",
    "    plt.plot(dta.index, dta[['VGRF_right']], color=color)\n",
    "    plt.show()"
   ]
  }
 ],
 "metadata": {
  "kernelspec": {
   "display_name": "Python 3",
   "language": "python",
   "name": "python3"
  },
  "language_info": {
   "codemirror_mode": {
    "name": "ipython",
    "version": 3
   },
   "file_extension": ".py",
   "mimetype": "text/x-python",
   "name": "python",
   "nbconvert_exporter": "python",
   "pygments_lexer": "ipython3",
   "version": "3.7.1"
  }
 },
 "nbformat": 4,
 "nbformat_minor": 4
}
