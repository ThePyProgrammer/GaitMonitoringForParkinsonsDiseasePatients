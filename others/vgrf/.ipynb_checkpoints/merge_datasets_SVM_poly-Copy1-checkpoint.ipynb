{
 "cells": [
  {
   "cell_type": "code",
   "execution_count": null,
   "metadata": {
    "collapsed": true
   },
   "outputs": [],
   "source": [
    "import pandas as pd\n",
    "import numpy as np\n",
    "# from sklearn.preprocessing import PolynomialFeatures\n",
    "from sklearn import decomposition\n",
    "import os\n",
    "import scipy.stats as sc\n",
    "from sklearn.model_selection import train_test_split\n",
    "from sklearn.preprocessing import MinMaxScaler\n",
    "from sklearn.svm import SVC\n"
   ]
  },
  {
   "cell_type": "code",
   "execution_count": null,
   "metadata": {
    "scrolled": true
   },
   "outputs": [],
   "source": [
    "count = 0\n",
    "\n",
    "for name in os.listdir('CSV'):\n",
    "    if 'Co' in name:\n",
    "        count += 1\n",
    "\n",
    "\n",
    "files = []\n",
    "\n",
    "for name in os.listdir('CSV'):\n",
    "    if 'Co' in name:\n",
    "        files.append('CSV/' + name)\n",
    "    \n",
    "path = 'Transformed Data/Co_final.csv'\n",
    "\n",
    "# df2 = pd.DataFrame(columns = [col + string for col in df.columns for string in [\"Min\", \"Max\", \"Std\", \"Med\", \"Avg\", \"Skewness\", \"Kurtosis\", \"Moment\"]])\n",
    "i = 0\n",
    "j = 0\n",
    "df2 = pd.DataFrame()\n",
    "for fname in files:\n",
    "    global df, df2\n",
    "\n",
    "        \n",
    "    df = pd.read_csv(fname)\n",
    "    for col in df.columns:\n",
    "        for x in [\"Min\", \"Max\", \"Std\", \"Med\", \"Avg\", \"Skewness\", \"Kurtosis\"]:\n",
    "            colname = col + x\n",
    "            if x == 'Min':\n",
    "                df2.loc[i, colname] = df[col].min(axis=0)\n",
    "                \n",
    "            if x == 'Max':\n",
    "                df2.loc[i, colname] = df[col].max(axis=0)\n",
    "                \n",
    "            if x == 'Std':\n",
    "                df2.loc[i, colname] = df[col].std(axis=0)\n",
    "                \n",
    "            if x == 'Med':\n",
    "                df2.loc[i, colname] = df[col].median(axis=0)\n",
    "                \n",
    "            if x == 'Avg':\n",
    "                df2.loc[i, colname] = df[col].mean(axis=0)\n",
    "            if x == 'Skewness':\n",
    "                df2.loc[i, colname] = df[col].skew(axis=0)\n",
    "                \n",
    "            if x == 'Kurtosis':\n",
    "                df2.loc[i, colname] = df[col].kurtosis(axis=0)\n",
    "          \n",
    "                \n",
    "    i += 1\n",
    "    j += 1\n",
    "    print(\"{} files completed out of {}\".format(j, count))\n",
    "\n"
   ]
  },
  {
   "cell_type": "code",
   "execution_count": null,
   "metadata": {
    "collapsed": true
   },
   "outputs": [],
   "source": [
    "\n",
    "df2 = df2.dropna(thresh=50)"
   ]
  },
  {
   "cell_type": "code",
   "execution_count": null,
   "metadata": {
    "scrolled": true
   },
   "outputs": [],
   "source": [
    "df2"
   ]
  },
  {
   "cell_type": "code",
   "execution_count": null,
   "metadata": {
    "scrolled": true
   },
   "outputs": [],
   "source": [
    "count = 0\n",
    "\n",
    "for name in os.listdir('CSV'):\n",
    "    if 'Pt' in name:\n",
    "        count += 1\n",
    "\n",
    "\n",
    "files = []\n",
    "\n",
    "for name in os.listdir('CSV'):\n",
    "    if 'Pt' in name:\n",
    "        files.append('CSV/' + name)\n",
    "    \n",
    "path = 'Transformed Data/Pt_final.csv'\n",
    "\n",
    "# df2 = pd.DataFrame(columns = [col + string for col in df.columns for string in [\"Min\", \"Max\", \"Std\", \"Med\", \"Avg\", \"Skewness\", \"Kurtosis\", \"Moment\"]])\n",
    "i = 0\n",
    "j = 0\n",
    "df4 = pd.DataFrame()\n",
    "for fname in files:\n",
    "    global df3, df4\n",
    "\n",
    "        \n",
    "    df3 = pd.read_csv(fname)\n",
    "    for col in df.columns:\n",
    "        for x in [\"Min\", \"Max\", \"Std\", \"Med\", \"Avg\", \"Skewness\", \"Kurtosis\"]:\n",
    "            colname = col + x\n",
    "            if x == 'Min':\n",
    "                df4.loc[i, colname] = df3[col].min(axis=0)\n",
    "                \n",
    "            if x == 'Max':\n",
    "                df4.loc[i, colname] = df3[col].max(axis=0)\n",
    "                \n",
    "            if x == 'Std':\n",
    "                df4.loc[i, colname] = df3[col].std(axis=0)\n",
    "                \n",
    "            if x == 'Med':\n",
    "                df4.loc[i, colname] = df3[col].median(axis=0)\n",
    "                \n",
    "            if x == 'Avg':\n",
    "                df4.loc[i, colname] = df3[col].mean(axis=0)\n",
    "            if x == 'Skewness':\n",
    "                df4.loc[i, colname] = df3[col].skew(axis=0)\n",
    "                \n",
    "            if x == 'Kurtosis':\n",
    "                df4.loc[i, colname] = df3[col].kurtosis(axis=0)\n",
    "          \n",
    "                \n",
    "    i += 1\n",
    "    j += 1\n",
    "    print(\"{} files completed out of {}\".format(j, count))\n",
    "\n"
   ]
  },
  {
   "cell_type": "code",
   "execution_count": null,
   "metadata": {
    "collapsed": true
   },
   "outputs": [],
   "source": [
    "\n",
    "df4 = df4.dropna(thresh=50)"
   ]
  },
  {
   "cell_type": "code",
   "execution_count": null,
   "metadata": {
    "scrolled": true
   },
   "outputs": [],
   "source": [
    "df4"
   ]
  },
  {
   "cell_type": "code",
   "execution_count": null,
   "metadata": {
    "collapsed": true
   },
   "outputs": [],
   "source": [
    "df_co = df2\n",
    "df_pt = df4"
   ]
  },
  {
   "cell_type": "code",
   "execution_count": null,
   "metadata": {
    "collapsed": true
   },
   "outputs": [],
   "source": [
    "#pca1 = decomposition.PCA(n_components=50)\n",
    "#df_co_pca = pca1.fit_transform(df_co)\n",
    "#df_pt_pca = pca1.fit_transform(df_pt)\n",
    "\n",
    "df_co_pca= df_co\n",
    "df_pt_pca= df_pt"
   ]
  },
  {
   "cell_type": "code",
   "execution_count": null,
   "metadata": {
    "collapsed": true
   },
   "outputs": [],
   "source": [
    "df_co_len = df_co_pca.shape[0]\n",
    "df_pt_len = df_pt_pca.shape[0]"
   ]
  },
  {
   "cell_type": "code",
   "execution_count": null,
   "metadata": {
    "collapsed": true
   },
   "outputs": [],
   "source": [
    "df_co_pca = pd.DataFrame(df_co_pca)\n",
    "df_pt_pca = pd.DataFrame(df_pt_pca)"
   ]
  },
  {
   "cell_type": "code",
   "execution_count": null,
   "metadata": {
    "collapsed": true
   },
   "outputs": [],
   "source": [
    "X = pd.concat([df_co_pca, df_pt_pca])"
   ]
  },
  {
   "cell_type": "code",
   "execution_count": null,
   "metadata": {},
   "outputs": [],
   "source": [
    "y1 = pd.Series([0]*df_co_len)\n",
    "y1.shape"
   ]
  },
  {
   "cell_type": "code",
   "execution_count": null,
   "metadata": {},
   "outputs": [],
   "source": [
    "y2 = pd.Series([1]*df_pt_len, index = range(df_co_len-1,(df_co_len + df_pt_len)-1))\n",
    "y2.shape"
   ]
  },
  {
   "cell_type": "code",
   "execution_count": null,
   "metadata": {},
   "outputs": [],
   "source": [
    "y = pd.concat([y1,y2]) \n",
    "y.shape"
   ]
  },
  {
   "cell_type": "code",
   "execution_count": 40,
   "metadata": {},
   "outputs": [
    {
     "name": "stdout",
     "output_type": "stream",
     "text": [
      "(229, 133)\n",
      "(77, 133)\n",
      "(229, 1)\n",
      "(77, 1)\n"
     ]
    }
   ],
   "source": [
    "X_train, X_test, y_train1, y_test1 = train_test_split(X, y)\n",
    "y_train = pd.DataFrame(y_train1)\n",
    "y_test = pd.DataFrame(y_test1)\n",
    "\n",
    "\n",
    "print(X_train.shape)\n",
    "print(X_test.shape)\n",
    "print(y_train.shape)\n",
    "print(y_test.shape)\n"
   ]
  },
  {
   "cell_type": "code",
   "execution_count": 41,
   "metadata": {
    "collapsed": true
   },
   "outputs": [],
   "source": [
    "scaler = MinMaxScaler().fit(X_train)\n",
    "X_train = scaler.transform(X_train)\n",
    "X_test = scaler.transform(X_test)\n"
   ]
  },
  {
   "cell_type": "code",
   "execution_count": 42,
   "metadata": {},
   "outputs": [
    {
     "name": "stdout",
     "output_type": "stream",
     "text": [
      "gamma = 0.01, C = 0.10, accuracy = 0.7012987012987013\n",
      "gamma = 0.01, C = 1.00, accuracy = 0.7012987012987013\n",
      "gamma = 0.01, C = 15.00, accuracy = 0.7272727272727273\n",
      "gamma = 0.01, C = 250.00, accuracy = 0.8701298701298701\n",
      "gamma = 1.00, C = 0.10, accuracy = 0.8701298701298701\n",
      "gamma = 1.00, C = 1.00, accuracy = 0.8701298701298701\n",
      "gamma = 1.00, C = 15.00, accuracy = 0.8701298701298701\n",
      "gamma = 1.00, C = 250.00, accuracy = 0.8701298701298701\n",
      "gamma = 5.00, C = 0.10, accuracy = 0.8701298701298701\n",
      "gamma = 5.00, C = 1.00, accuracy = 0.8701298701298701\n",
      "gamma = 5.00, C = 15.00, accuracy = 0.8701298701298701\n",
      "gamma = 5.00, C = 250.00, accuracy = 0.8701298701298701\n"
     ]
    },
    {
     "name": "stderr",
     "output_type": "stream",
     "text": [
      "C:\\Anaconda\\lib\\site-packages\\sklearn\\utils\\validation.py:547: DataConversionWarning: A column-vector y was passed when a 1d array was expected. Please change the shape of y to (n_samples, ), for example using ravel().\n",
      "  y = column_or_1d(y, warn=True)\n"
     ]
    }
   ],
   "source": [
    "for this_gamma in ([0.01, 1, 5]):\n",
    "    \n",
    "    for this_C in ([0.1, 1, 15, 250]):\n",
    "         \n",
    "        clf = SVC(kernel = 'poly', gamma = this_gamma, C = this_C).fit(X_train, y_train)\n",
    "        print('gamma = {:.2f}, C = {:.2f}, accuracy = {}'.format(this_gamma, this_C, clf.score(X_test, np.ravel(y_test))))\n",
    " "
   ]
  },
  {
   "cell_type": "code",
   "execution_count": 43,
   "metadata": {},
   "outputs": [
    {
     "data": {
      "text/plain": [
       "SVC(C=250, cache_size=200, class_weight=None, coef0=0.0,\n",
       "  decision_function_shape='ovr', degree=3, gamma=5, kernel='poly',\n",
       "  max_iter=-1, probability=False, random_state=None, shrinking=True,\n",
       "  tol=0.001, verbose=False)"
      ]
     },
     "execution_count": 43,
     "metadata": {},
     "output_type": "execute_result"
    }
   ],
   "source": [
    "clf"
   ]
  },
  {
   "cell_type": "code",
   "execution_count": null,
   "metadata": {},
   "outputs": [
    {
     "name": "stderr",
     "output_type": "stream",
     "text": [
      "C:\\Anaconda\\lib\\site-packages\\sklearn\\utils\\validation.py:547: DataConversionWarning: A column-vector y was passed when a 1d array was expected. Please change the shape of y to (n_samples, ), for example using ravel().\n",
      "  y = column_or_1d(y, warn=True)\n"
     ]
    },
    {
     "name": "stdout",
     "output_type": "stream",
     "text": [
      "gamma = 5.00, C = 1.00, accuracy = 0.8311688311688312\n",
      "gamma = 5.00, C = 1.00, accuracy = 0.8701298701298701\n",
      "gamma = 5.00, C = 1.00, accuracy = 0.8701298701298701\n",
      "gamma = 5.00, C = 1.00, accuracy = 0.8701298701298701\n"
     ]
    }
   ],
   "source": [
    "gamma = 5\n",
    "C = 1\n",
    "for d in ([1,2,3,5,10]):\n",
    "    clf = SVC(kernel = 'poly', gamma = gamma, C = C, degree = d).fit(X_train, y_train)\n",
    "    print('gamma = {:.2f}, C = {:.2f}, accuracy = {}'.format(gamma, C, clf.score(X_test, np.ravel(y_test))))"
   ]
  },
  {
   "cell_type": "code",
   "execution_count": null,
   "metadata": {
    "collapsed": true
   },
   "outputs": [],
   "source": []
  }
 ],
 "metadata": {
  "kernelspec": {
   "display_name": "Python 3",
   "language": "python",
   "name": "python3"
  },
  "language_info": {
   "codemirror_mode": {
    "name": "ipython",
    "version": 3
   },
   "file_extension": ".py",
   "mimetype": "text/x-python",
   "name": "python",
   "nbconvert_exporter": "python",
   "pygments_lexer": "ipython3",
   "version": "3.6.2"
  }
 },
 "nbformat": 4,
 "nbformat_minor": 2
}
