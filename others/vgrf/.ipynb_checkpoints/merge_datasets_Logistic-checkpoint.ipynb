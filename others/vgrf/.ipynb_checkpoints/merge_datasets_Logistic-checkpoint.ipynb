{
 "cells": [
  {
   "cell_type": "code",
   "execution_count": 13,
   "metadata": {
    "collapsed": true
   },
   "outputs": [],
   "source": [
    "import pandas as pd\n",
    "import numpy as np\n",
    "# from sklearn.preprocessing import PolynomialFeatures\n",
    "from sklearn import decomposition\n",
    "import os\n",
    "import scipy.stats as sc\n",
    "from sklearn.model_selection import train_test_split\n",
    "from sklearn.preprocessing import MinMaxScaler\n",
    "from sklearn.linear_model import LogisticRegression\n",
    "from sklearn.metrics import accuracy_score, precision_score, recall_score, f1_score\n",
    "from sklearn.metrics import roc_curve, auc"
   ]
  },
  {
   "cell_type": "code",
   "execution_count": 2,
   "metadata": {
    "collapsed": true
   },
   "outputs": [],
   "source": [
    "df_co = pd.read_csv('Transformed Data/Transformed_Co', index_col = 0)\n",
    "df_pt = pd.read_csv('Transformed Data/Transformed_Pt' , index_col = 0)"
   ]
  },
  {
   "cell_type": "code",
   "execution_count": 3,
   "metadata": {
    "collapsed": true
   },
   "outputs": [],
   "source": [
    "df_co_len = df_co.shape[0]\n",
    "df_pt_len = df_pt.shape[0]"
   ]
  },
  {
   "cell_type": "code",
   "execution_count": 4,
   "metadata": {
    "collapsed": true
   },
   "outputs": [],
   "source": [
    "df_co_pca = pd.DataFrame(df_co)\n",
    "df_pt_pca = pd.DataFrame(df_pt)"
   ]
  },
  {
   "cell_type": "code",
   "execution_count": 5,
   "metadata": {},
   "outputs": [
    {
     "data": {
      "text/plain": [
       "(92,)"
      ]
     },
     "execution_count": 5,
     "metadata": {},
     "output_type": "execute_result"
    }
   ],
   "source": [
    "y1 = pd.Series([0]*df_co_len)\n",
    "y1.shape"
   ]
  },
  {
   "cell_type": "code",
   "execution_count": 6,
   "metadata": {},
   "outputs": [
    {
     "data": {
      "text/plain": [
       "(214,)"
      ]
     },
     "execution_count": 6,
     "metadata": {},
     "output_type": "execute_result"
    }
   ],
   "source": [
    "y2 = pd.Series([1]*df_pt_len, index = range(df_co_len-1,(df_co_len + df_pt_len)-1))\n",
    "y2.shape"
   ]
  },
  {
   "cell_type": "code",
   "execution_count": 7,
   "metadata": {},
   "outputs": [
    {
     "data": {
      "text/plain": [
       "(306,)"
      ]
     },
     "execution_count": 7,
     "metadata": {},
     "output_type": "execute_result"
    }
   ],
   "source": [
    "y = pd.concat([y1,y2]) \n",
    "y.shape"
   ]
  },
  {
   "cell_type": "code",
   "execution_count": 8,
   "metadata": {
    "collapsed": true
   },
   "outputs": [],
   "source": [
    "X = pd.concat([df_co_pca, df_pt_pca])"
   ]
  },
  {
   "cell_type": "code",
   "execution_count": 10,
   "metadata": {
    "scrolled": true
   },
   "outputs": [
    {
     "name": "stdout",
     "output_type": "stream",
     "text": [
      "0 out of 200 done\n",
      "1 out of 200 done\n",
      "2 out of 200 done\n",
      "3 out of 200 done\n",
      "4 out of 200 done\n",
      "5 out of 200 done\n",
      "6 out of 200 done\n",
      "7 out of 200 done\n",
      "8 out of 200 done\n",
      "9 out of 200 done\n",
      "10 out of 200 done\n",
      "11 out of 200 done\n",
      "12 out of 200 done\n",
      "13 out of 200 done\n",
      "14 out of 200 done\n",
      "15 out of 200 done\n",
      "16 out of 200 done\n",
      "17 out of 200 done\n",
      "18 out of 200 done\n",
      "19 out of 200 done\n",
      "20 out of 200 done\n",
      "21 out of 200 done\n",
      "22 out of 200 done\n",
      "23 out of 200 done\n",
      "24 out of 200 done\n",
      "25 out of 200 done\n",
      "26 out of 200 done\n",
      "27 out of 200 done\n",
      "28 out of 200 done\n",
      "29 out of 200 done\n",
      "30 out of 200 done\n",
      "31 out of 200 done\n",
      "32 out of 200 done\n",
      "33 out of 200 done\n",
      "34 out of 200 done\n",
      "35 out of 200 done\n",
      "36 out of 200 done\n",
      "37 out of 200 done\n",
      "38 out of 200 done\n",
      "39 out of 200 done\n",
      "40 out of 200 done\n",
      "41 out of 200 done\n",
      "42 out of 200 done\n",
      "43 out of 200 done\n",
      "44 out of 200 done\n",
      "45 out of 200 done\n",
      "46 out of 200 done\n",
      "47 out of 200 done\n",
      "48 out of 200 done\n",
      "49 out of 200 done\n",
      "50 out of 200 done\n",
      "51 out of 200 done\n",
      "52 out of 200 done\n",
      "53 out of 200 done\n",
      "54 out of 200 done\n",
      "55 out of 200 done\n",
      "56 out of 200 done\n",
      "57 out of 200 done\n",
      "58 out of 200 done\n",
      "59 out of 200 done\n",
      "60 out of 200 done\n",
      "61 out of 200 done\n",
      "62 out of 200 done\n",
      "63 out of 200 done\n",
      "64 out of 200 done\n",
      "65 out of 200 done\n",
      "66 out of 200 done\n",
      "67 out of 200 done\n",
      "68 out of 200 done\n",
      "69 out of 200 done\n",
      "70 out of 200 done\n",
      "71 out of 200 done\n",
      "72 out of 200 done\n",
      "73 out of 200 done\n",
      "74 out of 200 done\n",
      "75 out of 200 done\n",
      "76 out of 200 done\n",
      "77 out of 200 done\n",
      "78 out of 200 done\n",
      "79 out of 200 done\n",
      "80 out of 200 done\n",
      "81 out of 200 done\n",
      "82 out of 200 done\n",
      "83 out of 200 done\n",
      "84 out of 200 done\n",
      "85 out of 200 done\n",
      "86 out of 200 done\n",
      "87 out of 200 done\n",
      "88 out of 200 done\n",
      "89 out of 200 done\n",
      "90 out of 200 done\n",
      "91 out of 200 done\n",
      "92 out of 200 done\n",
      "93 out of 200 done\n",
      "94 out of 200 done\n",
      "95 out of 200 done\n",
      "96 out of 200 done\n",
      "97 out of 200 done\n",
      "98 out of 200 done\n",
      "99 out of 200 done\n",
      "100 out of 200 done\n",
      "101 out of 200 done\n",
      "102 out of 200 done\n",
      "103 out of 200 done\n",
      "104 out of 200 done\n",
      "105 out of 200 done\n",
      "106 out of 200 done\n",
      "107 out of 200 done\n",
      "108 out of 200 done\n",
      "109 out of 200 done\n",
      "110 out of 200 done\n",
      "111 out of 200 done\n",
      "112 out of 200 done\n",
      "113 out of 200 done\n",
      "114 out of 200 done\n",
      "115 out of 200 done\n",
      "116 out of 200 done\n",
      "117 out of 200 done\n",
      "118 out of 200 done\n",
      "119 out of 200 done\n",
      "120 out of 200 done\n",
      "121 out of 200 done\n",
      "122 out of 200 done\n",
      "123 out of 200 done\n",
      "124 out of 200 done\n",
      "125 out of 200 done\n",
      "126 out of 200 done\n",
      "127 out of 200 done\n",
      "128 out of 200 done\n",
      "129 out of 200 done\n",
      "130 out of 200 done\n",
      "131 out of 200 done\n",
      "132 out of 200 done\n",
      "133 out of 200 done\n",
      "134 out of 200 done\n",
      "135 out of 200 done\n",
      "136 out of 200 done\n",
      "137 out of 200 done\n",
      "138 out of 200 done\n",
      "139 out of 200 done\n",
      "140 out of 200 done\n",
      "141 out of 200 done\n",
      "142 out of 200 done\n",
      "143 out of 200 done\n",
      "144 out of 200 done\n",
      "145 out of 200 done\n",
      "146 out of 200 done\n",
      "147 out of 200 done\n",
      "148 out of 200 done\n",
      "149 out of 200 done\n",
      "150 out of 200 done\n",
      "151 out of 200 done\n",
      "152 out of 200 done\n",
      "153 out of 200 done\n",
      "154 out of 200 done\n",
      "155 out of 200 done\n",
      "156 out of 200 done\n",
      "157 out of 200 done\n",
      "158 out of 200 done\n",
      "159 out of 200 done\n",
      "160 out of 200 done\n",
      "161 out of 200 done\n",
      "162 out of 200 done\n",
      "163 out of 200 done\n",
      "164 out of 200 done\n",
      "165 out of 200 done\n",
      "166 out of 200 done\n",
      "167 out of 200 done\n",
      "168 out of 200 done\n",
      "169 out of 200 done\n",
      "170 out of 200 done\n",
      "171 out of 200 done\n",
      "172 out of 200 done\n",
      "173 out of 200 done\n",
      "174 out of 200 done\n",
      "175 out of 200 done\n",
      "176 out of 200 done\n",
      "177 out of 200 done\n",
      "178 out of 200 done\n",
      "179 out of 200 done\n",
      "180 out of 200 done\n",
      "181 out of 200 done\n",
      "182 out of 200 done\n",
      "183 out of 200 done\n",
      "184 out of 200 done\n",
      "185 out of 200 done\n",
      "186 out of 200 done\n",
      "187 out of 200 done\n",
      "188 out of 200 done\n",
      "189 out of 200 done\n",
      "190 out of 200 done\n",
      "191 out of 200 done\n",
      "192 out of 200 done\n",
      "193 out of 200 done\n",
      "194 out of 200 done\n",
      "195 out of 200 done\n",
      "196 out of 200 done\n",
      "197 out of 200 done\n",
      "198 out of 200 done\n",
      "199 out of 200 done\n",
      "C = 1, Score = 0.948051948051948, Random State = 168\n"
     ]
    }
   ],
   "source": [
    "c_val = 0\n",
    "score_val = 0\n",
    "min_range = 0\n",
    "max_range = 200\n",
    "state = 0\n",
    "\n",
    "for rand_state in range(min_range, max_range):\n",
    "    X_train, X_test, y_train1, y_test1 = train_test_split(X, y, random_state = rand_state)\n",
    "    y_train = pd.DataFrame(y_train1)\n",
    "    y_test = pd.DataFrame(y_test1)\n",
    "\n",
    "    scaler = MinMaxScaler().fit(X_train)\n",
    "    X_train = scaler.transform(X_train)\n",
    "    X_test = scaler.transform(X_test)\n",
    "    \n",
    "    \n",
    "    for x in [1, 5, 10, 20, 100, 200, 400]:\n",
    "        clf = LogisticRegression(C=x).fit(X_train, np.ravel(y_train))\n",
    "        score = clf.score(X_test, np.ravel(y_test))\n",
    "\n",
    "        if score > score_val:\n",
    "            c_val = x\n",
    "            score_val = score\n",
    "            state = rand_state\n",
    "\n",
    "    print('{} out of {} done'.format(rand_state - min_range, max_range - min_range))\n",
    "print(\"C = {}, Score = {}, Random State = {}\".format(c_val, score_val, state))\n"
   ]
  },
  {
   "cell_type": "code",
   "execution_count": 16,
   "metadata": {},
   "outputs": [
    {
     "name": "stdout",
     "output_type": "stream",
     "text": [
      "0.903930131004\n",
      "{'C': 5}\n"
     ]
    }
   ],
   "source": [
    "from sklearn.metrics import accuracy_score, precision_score, recall_score, f1_score, auc\n",
    "best_score = 0\n",
    "for i in range(200):\n",
    "    X_train, X_test, y_train1, y_test1 = train_test_split(X, y)\n",
    "    y_train = pd.DataFrame(y_train1)\n",
    "    y_test = pd.DataFrame(y_test1)\n",
    "\n",
    "    scaler = MinMaxScaler().fit(X_train)\n",
    "    X_train = scaler.transform(X_train)\n",
    "    X_test = scaler.transform(X_test)\n",
    "\n",
    "    clf = LogisticRegression().fit(X_train, np.ravel(y_train))\n",
    "\n",
    "    \n",
    "    grid_vals = {'C': [0.1, 1, 5, 10, 12, 15, 20, 25, 50, 100, 250]}\n",
    "    grid_clf = GridSearchCV(clf, param_grid=grid_vals, scoring='accuracy')\n",
    "    grid_clf.fit(X_train, y_train1)\n",
    "    decision_fn_scores = grid_clf.decision_function(X_test)\n",
    "    \n",
    "    if best_score < grid_clf.best_score_:\n",
    "        best_score = grid_clf.best_score_\n",
    "        best_params = grid_clf.best_params_\n",
    "        prediction = grid_clf.predict(X_test)\n",
    "        y_score = grid_clf.decision_function(X_test)\n",
    "        prec = precision_score(y_test, prediction)\n",
    "        rec = recall_score(y_test, prediction)\n",
    "        f1 = f1_score(y_test, prediction)\n",
    "        fpr, tpr, _ = roc_curve(y_test, y_score)\n",
    "        roc_auc = auc(fpr, tpr)\n",
    "        \n",
    "print(best_score)\n",
    "print(best_params)"
   ]
  },
  {
   "cell_type": "code",
   "execution_count": 18,
   "metadata": {},
   "outputs": [
    {
     "name": "stdout",
     "output_type": "stream",
     "text": [
      "Precision: 0.7818\n",
      "Recall: 0.8776\n",
      "F1: 0.8269\n",
      "AUC: 0.8324\n"
     ]
    }
   ],
   "source": [
    "\n",
    "\n",
    "print('Precision: {:.4f}'.format(prec))\n",
    "print('Recall: {:.4f}'.format(rec))\n",
    "print('F1: {:.4f}'.format(f1))\n",
    "print('AUC: {:.4f}'.format(roc_auc))"
   ]
  },
  {
   "cell_type": "code",
   "execution_count": null,
   "metadata": {
    "collapsed": true
   },
   "outputs": [],
   "source": []
  }
 ],
 "metadata": {
  "kernelspec": {
   "display_name": "Python 3",
   "language": "python",
   "name": "python3"
  },
  "language_info": {
   "codemirror_mode": {
    "name": "ipython",
    "version": 3
   },
   "file_extension": ".py",
   "mimetype": "text/x-python",
   "name": "python",
   "nbconvert_exporter": "python",
   "pygments_lexer": "ipython3",
   "version": "3.6.2"
  }
 },
 "nbformat": 4,
 "nbformat_minor": 2
}
