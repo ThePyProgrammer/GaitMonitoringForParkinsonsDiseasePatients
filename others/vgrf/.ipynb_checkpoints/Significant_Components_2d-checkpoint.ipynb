{
 "cells": [
  {
   "cell_type": "code",
   "execution_count": 9,
   "metadata": {
    "collapsed": true
   },
   "outputs": [],
   "source": [
    "import pandas as pd\n",
    "import numpy as np\n",
    "import matplotlib.pyplot as plt\n",
    "from sklearn.preprocessing import PolynomialFeatures\n",
    "from sklearn import decomposition\n",
    "from mpl_toolkits.mplot3d import Axes3D\n",
    "%matplotlib notebook"
   ]
  },
  {
   "cell_type": "code",
   "execution_count": 22,
   "metadata": {},
   "outputs": [
    {
     "data": {
      "text/html": [
       "<div>\n",
       "<style>\n",
       "    .dataframe thead tr:only-child th {\n",
       "        text-align: right;\n",
       "    }\n",
       "\n",
       "    .dataframe thead th {\n",
       "        text-align: left;\n",
       "    }\n",
       "\n",
       "    .dataframe tbody tr th {\n",
       "        vertical-align: top;\n",
       "    }\n",
       "</style>\n",
       "<table border=\"1\" class=\"dataframe\">\n",
       "  <thead>\n",
       "    <tr style=\"text-align: right;\">\n",
       "      <th></th>\n",
       "      <th>Time(sec)</th>\n",
       "      <th>VGRF_left_s1</th>\n",
       "      <th>VGRF_left_s2</th>\n",
       "      <th>VGRF_left_s3</th>\n",
       "      <th>VGRF_left_s4</th>\n",
       "      <th>VGRF_left_s5</th>\n",
       "      <th>VGRF_left_s6</th>\n",
       "      <th>VGRF_left_s7</th>\n",
       "      <th>VGRF_left_s8</th>\n",
       "      <th>VGRF_right_s1</th>\n",
       "      <th>VGRF_right_s2</th>\n",
       "      <th>VGRF_right_s3</th>\n",
       "      <th>VGRF_right_s4</th>\n",
       "      <th>VGRF_right_s5</th>\n",
       "      <th>VGRF_right_s6</th>\n",
       "      <th>VGRF_right_s7</th>\n",
       "      <th>VGRF_right_s8</th>\n",
       "      <th>Total_force_left</th>\n",
       "      <th>Total_force_right</th>\n",
       "    </tr>\n",
       "  </thead>\n",
       "  <tbody>\n",
       "    <tr>\n",
       "      <th>0</th>\n",
       "      <td>0.01</td>\n",
       "      <td>199.1</td>\n",
       "      <td>87.34</td>\n",
       "      <td>91.08</td>\n",
       "      <td>24.09</td>\n",
       "      <td>21.12</td>\n",
       "      <td>87.67</td>\n",
       "      <td>87.23</td>\n",
       "      <td>64.57</td>\n",
       "      <td>163.9</td>\n",
       "      <td>79.86</td>\n",
       "      <td>112.42</td>\n",
       "      <td>50.82</td>\n",
       "      <td>13.75</td>\n",
       "      <td>102.74</td>\n",
       "      <td>144.98</td>\n",
       "      <td>79.53</td>\n",
       "      <td>662.20</td>\n",
       "      <td>748.00</td>\n",
       "    </tr>\n",
       "    <tr>\n",
       "      <th>1</th>\n",
       "      <td>0.02</td>\n",
       "      <td>199.1</td>\n",
       "      <td>87.34</td>\n",
       "      <td>91.08</td>\n",
       "      <td>24.09</td>\n",
       "      <td>21.12</td>\n",
       "      <td>87.67</td>\n",
       "      <td>87.23</td>\n",
       "      <td>62.59</td>\n",
       "      <td>163.9</td>\n",
       "      <td>79.86</td>\n",
       "      <td>112.42</td>\n",
       "      <td>50.82</td>\n",
       "      <td>13.75</td>\n",
       "      <td>102.74</td>\n",
       "      <td>144.98</td>\n",
       "      <td>79.53</td>\n",
       "      <td>660.22</td>\n",
       "      <td>748.00</td>\n",
       "    </tr>\n",
       "    <tr>\n",
       "      <th>2</th>\n",
       "      <td>0.03</td>\n",
       "      <td>199.1</td>\n",
       "      <td>87.34</td>\n",
       "      <td>91.08</td>\n",
       "      <td>24.09</td>\n",
       "      <td>21.12</td>\n",
       "      <td>87.67</td>\n",
       "      <td>89.10</td>\n",
       "      <td>64.57</td>\n",
       "      <td>163.9</td>\n",
       "      <td>77.55</td>\n",
       "      <td>112.42</td>\n",
       "      <td>48.07</td>\n",
       "      <td>13.75</td>\n",
       "      <td>105.49</td>\n",
       "      <td>144.98</td>\n",
       "      <td>79.53</td>\n",
       "      <td>664.07</td>\n",
       "      <td>745.69</td>\n",
       "    </tr>\n",
       "    <tr>\n",
       "      <th>3</th>\n",
       "      <td>0.04</td>\n",
       "      <td>199.1</td>\n",
       "      <td>87.34</td>\n",
       "      <td>91.08</td>\n",
       "      <td>24.09</td>\n",
       "      <td>21.12</td>\n",
       "      <td>87.67</td>\n",
       "      <td>87.23</td>\n",
       "      <td>62.59</td>\n",
       "      <td>163.9</td>\n",
       "      <td>77.55</td>\n",
       "      <td>112.42</td>\n",
       "      <td>50.82</td>\n",
       "      <td>13.75</td>\n",
       "      <td>105.49</td>\n",
       "      <td>144.98</td>\n",
       "      <td>79.53</td>\n",
       "      <td>660.22</td>\n",
       "      <td>748.44</td>\n",
       "    </tr>\n",
       "    <tr>\n",
       "      <th>4</th>\n",
       "      <td>0.05</td>\n",
       "      <td>199.1</td>\n",
       "      <td>87.34</td>\n",
       "      <td>91.08</td>\n",
       "      <td>24.09</td>\n",
       "      <td>19.03</td>\n",
       "      <td>87.67</td>\n",
       "      <td>89.10</td>\n",
       "      <td>62.59</td>\n",
       "      <td>163.9</td>\n",
       "      <td>77.55</td>\n",
       "      <td>112.42</td>\n",
       "      <td>50.82</td>\n",
       "      <td>13.75</td>\n",
       "      <td>102.74</td>\n",
       "      <td>144.98</td>\n",
       "      <td>79.53</td>\n",
       "      <td>660.00</td>\n",
       "      <td>745.69</td>\n",
       "    </tr>\n",
       "  </tbody>\n",
       "</table>\n",
       "</div>"
      ],
      "text/plain": [
       "   Time(sec)  VGRF_left_s1  VGRF_left_s2  VGRF_left_s3  VGRF_left_s4  \\\n",
       "0       0.01         199.1         87.34         91.08         24.09   \n",
       "1       0.02         199.1         87.34         91.08         24.09   \n",
       "2       0.03         199.1         87.34         91.08         24.09   \n",
       "3       0.04         199.1         87.34         91.08         24.09   \n",
       "4       0.05         199.1         87.34         91.08         24.09   \n",
       "\n",
       "   VGRF_left_s5  VGRF_left_s6  VGRF_left_s7  VGRF_left_s8  VGRF_right_s1  \\\n",
       "0         21.12         87.67         87.23         64.57          163.9   \n",
       "1         21.12         87.67         87.23         62.59          163.9   \n",
       "2         21.12         87.67         89.10         64.57          163.9   \n",
       "3         21.12         87.67         87.23         62.59          163.9   \n",
       "4         19.03         87.67         89.10         62.59          163.9   \n",
       "\n",
       "   VGRF_right_s2  VGRF_right_s3  VGRF_right_s4  VGRF_right_s5  VGRF_right_s6  \\\n",
       "0          79.86         112.42          50.82          13.75         102.74   \n",
       "1          79.86         112.42          50.82          13.75         102.74   \n",
       "2          77.55         112.42          48.07          13.75         105.49   \n",
       "3          77.55         112.42          50.82          13.75         105.49   \n",
       "4          77.55         112.42          50.82          13.75         102.74   \n",
       "\n",
       "   VGRF_right_s7  VGRF_right_s8  Total_force_left  Total_force_right  \n",
       "0         144.98          79.53            662.20             748.00  \n",
       "1         144.98          79.53            660.22             748.00  \n",
       "2         144.98          79.53            664.07             745.69  \n",
       "3         144.98          79.53            660.22             748.44  \n",
       "4         144.98          79.53            660.00             745.69  "
      ]
     },
     "execution_count": 22,
     "metadata": {},
     "output_type": "execute_result"
    }
   ],
   "source": [
    "ds_co = pd.read_csv('CSV/GaCo01_01.csv')\n",
    "ds_pt = pd.read_csv('CSV/GaPt03_01.csv')\n",
    "\n",
    "ds_co.head()"
   ]
  },
  {
   "cell_type": "code",
   "execution_count": 23,
   "metadata": {
    "collapsed": true
   },
   "outputs": [],
   "source": [
    "ds_co = ds_co.iloc[:, 1:-2]\n",
    "ds_pt = ds_pt.iloc[:, 1:-2]"
   ]
  },
  {
   "cell_type": "code",
   "execution_count": 24,
   "metadata": {},
   "outputs": [
    {
     "data": {
      "text/plain": [
       "array([[  1.00000000e+00,   1.99100000e+02,   8.73400000e+01, ...,\n",
       "          2.10192004e+04,   1.15302594e+04,   6.32502090e+03],\n",
       "       [  1.00000000e+00,   1.99100000e+02,   8.73400000e+01, ...,\n",
       "          2.10192004e+04,   1.15302594e+04,   6.32502090e+03],\n",
       "       [  1.00000000e+00,   1.99100000e+02,   8.73400000e+01, ...,\n",
       "          2.10192004e+04,   1.15302594e+04,   6.32502090e+03],\n",
       "       ..., \n",
       "       [  1.00000000e+00,   3.52440000e+02,   1.81940000e+02, ...,\n",
       "          1.62263952e+05,   6.20342800e+04,   2.37160000e+04],\n",
       "       [  1.00000000e+00,   3.52440000e+02,   2.02400000e+02, ...,\n",
       "          1.39382756e+05,   5.66730120e+04,   2.30432400e+04],\n",
       "       [  1.00000000e+00,   3.47270000e+02,   2.06910000e+02, ...,\n",
       "          1.10210720e+05,   4.88973342e+04,   2.16943441e+04]])"
      ]
     },
     "execution_count": 24,
     "metadata": {},
     "output_type": "execute_result"
    }
   ],
   "source": [
    "# Creating a Polynomial Features object\n",
    "\n",
    "poly = PolynomialFeatures(degree=2)\n",
    "ds_co_poly = poly.fit_transform(ds_co)\n",
    "ds_pt_poly = poly.fit_transform(ds_pt)\n",
    "\n",
    "ds_co_poly"
   ]
  },
  {
   "cell_type": "code",
   "execution_count": 25,
   "metadata": {
    "collapsed": true
   },
   "outputs": [],
   "source": [
    "\n",
    "pca1 = decomposition.PCA(n_components=2)\n",
    "ds_co_poly_pca = pca1.fit_transform(ds_co_poly)\n",
    "ds_pt_poly_pca = pca1.fit_transform(ds_pt_poly)\n"
   ]
  },
  {
   "cell_type": "code",
   "execution_count": 26,
   "metadata": {},
   "outputs": [
    {
     "data": {
      "text/plain": [
       "(2, 153)"
      ]
     },
     "execution_count": 26,
     "metadata": {},
     "output_type": "execute_result"
    }
   ],
   "source": [
    "# Dataframe consisting of significance of components of Polynomial Features\n",
    "\n",
    "df_pca1 = pd.DataFrame(pca1.components_)\n",
    "df_pca1.shape"
   ]
  },
  {
   "cell_type": "code",
   "execution_count": 39,
   "metadata": {},
   "outputs": [
    {
     "data": {
      "text/html": [
       "<div>\n",
       "<style>\n",
       "    .dataframe thead tr:only-child th {\n",
       "        text-align: right;\n",
       "    }\n",
       "\n",
       "    .dataframe thead th {\n",
       "        text-align: left;\n",
       "    }\n",
       "\n",
       "    .dataframe tbody tr th {\n",
       "        vertical-align: top;\n",
       "    }\n",
       "</style>\n",
       "<table border=\"1\" class=\"dataframe\">\n",
       "  <thead>\n",
       "    <tr style=\"text-align: right;\">\n",
       "      <th></th>\n",
       "      <th>125</th>\n",
       "      <th>132</th>\n",
       "      <th>141</th>\n",
       "      <th>148</th>\n",
       "      <th>150</th>\n",
       "    </tr>\n",
       "  </thead>\n",
       "  <tbody>\n",
       "    <tr>\n",
       "      <th>0</th>\n",
       "      <td>0.251036</td>\n",
       "      <td>0.244251</td>\n",
       "      <td>NaN</td>\n",
       "      <td>NaN</td>\n",
       "      <td>0.285988</td>\n",
       "    </tr>\n",
       "    <tr>\n",
       "      <th>1</th>\n",
       "      <td>NaN</td>\n",
       "      <td>NaN</td>\n",
       "      <td>0.181694</td>\n",
       "      <td>0.210052</td>\n",
       "      <td>0.468954</td>\n",
       "    </tr>\n",
       "  </tbody>\n",
       "</table>\n",
       "</div>"
      ],
      "text/plain": [
       "        125       132       141       148       150\n",
       "0  0.251036  0.244251       NaN       NaN  0.285988\n",
       "1       NaN       NaN  0.181694  0.210052  0.468954"
      ]
     },
     "execution_count": 39,
     "metadata": {},
     "output_type": "execute_result"
    }
   ],
   "source": [
    "# Retrieving the most significant component's values \n",
    "\n",
    "pd.DataFrame(pca1.components_).apply((lambda x: x.nlargest(3)), axis=1)"
   ]
  },
  {
   "cell_type": "code",
   "execution_count": 41,
   "metadata": {},
   "outputs": [
    {
     "data": {
      "text/plain": [
       "0    150\n",
       "1    150\n",
       "dtype: int64"
      ]
     },
     "execution_count": 41,
     "metadata": {},
     "output_type": "execute_result"
    }
   ],
   "source": [
    "# Retrieving the most significant component's index\n",
    "pd.DataFrame(pca1.components_).apply((lambda x: x.argmax()), axis=1)"
   ]
  },
  {
   "cell_type": "code",
   "execution_count": 43,
   "metadata": {},
   "outputs": [
    {
     "data": {
      "text/plain": [
       "'VGRF_right_s7^2'"
      ]
     },
     "execution_count": 43,
     "metadata": {},
     "output_type": "execute_result"
    }
   ],
   "source": [
    "# Retrieving the most significant component's name - PC1 and PC2\n",
    "poly.get_feature_names(ds_co.columns)[150]"
   ]
  },
  {
   "cell_type": "code",
   "execution_count": 44,
   "metadata": {},
   "outputs": [
    {
     "data": {
      "text/plain": [
       "'VGRF_right_s2^2'"
      ]
     },
     "execution_count": 44,
     "metadata": {},
     "output_type": "execute_result"
    }
   ],
   "source": [
    "# Second most significant component's name - PC1\n",
    "poly.get_feature_names(ds_co.columns)[125]"
   ]
  },
  {
   "cell_type": "code",
   "execution_count": 45,
   "metadata": {},
   "outputs": [
    {
     "data": {
      "text/plain": [
       "'VGRF_right_s3^2'"
      ]
     },
     "execution_count": 45,
     "metadata": {},
     "output_type": "execute_result"
    }
   ],
   "source": [
    "# Third most significant component's name - PC1\n",
    "poly.get_feature_names(ds_co.columns)[132]"
   ]
  },
  {
   "cell_type": "code",
   "execution_count": 46,
   "metadata": {},
   "outputs": [
    {
     "data": {
      "text/plain": [
       "'VGRF_right_s6 VGRF_right_s7'"
      ]
     },
     "execution_count": 46,
     "metadata": {},
     "output_type": "execute_result"
    }
   ],
   "source": [
    "# Second most significant component's name - PC2\n",
    "poly.get_feature_names(ds_co.columns)[148]"
   ]
  },
  {
   "cell_type": "code",
   "execution_count": 49,
   "metadata": {},
   "outputs": [
    {
     "data": {
      "text/plain": [
       "'VGRF_right_s4 VGRF_right_s7'"
      ]
     },
     "execution_count": 49,
     "metadata": {},
     "output_type": "execute_result"
    }
   ],
   "source": [
    "# Third most significant component's name - PC2\n",
    "poly.get_feature_names(ds_co.columns)[141]"
   ]
  },
  {
   "cell_type": "code",
   "execution_count": null,
   "metadata": {
    "collapsed": true
   },
   "outputs": [],
   "source": []
  }
 ],
 "metadata": {
  "kernelspec": {
   "display_name": "Python 3",
   "language": "python",
   "name": "python3"
  },
  "language_info": {
   "codemirror_mode": {
    "name": "ipython",
    "version": 3
   },
   "file_extension": ".py",
   "mimetype": "text/x-python",
   "name": "python",
   "nbconvert_exporter": "python",
   "pygments_lexer": "ipython3",
   "version": "3.6.2"
  }
 },
 "nbformat": 4,
 "nbformat_minor": 2
}
