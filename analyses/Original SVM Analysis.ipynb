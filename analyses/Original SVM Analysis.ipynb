{
 "cells": [
  {
   "cell_type": "markdown",
   "metadata": {
    "id": "J9eGL6mbVAvo"
   },
   "source": [
    "# Original SVM Analysis"
   ]
  },
  {
   "cell_type": "code",
   "execution_count": 1,
   "metadata": {
    "colab": {
     "base_uri": "https://localhost:8080/"
    },
    "id": "_JjDwMjkVAvz",
    "outputId": "0812ce06-762d-4d0f-98fa-5cc4dd8ae391"
   },
   "outputs": [
    {
     "name": "stdout",
     "output_type": "stream",
     "text": [
      "Requirement already satisfied: np in /usr/local/lib/python3.6/dist-packages (1.0.2)\n",
      "Requirement already satisfied: ipympl in /usr/local/lib/python3.6/dist-packages (0.5.8)\n",
      "Requirement already satisfied: ipywidgets>=7.5.0 in /usr/local/lib/python3.6/dist-packages (from ipympl) (7.5.1)\n",
      "Requirement already satisfied: ipykernel>=4.7 in /usr/local/lib/python3.6/dist-packages (from ipympl) (4.10.1)\n",
      "Requirement already satisfied: matplotlib>=2.0.0 in /usr/local/lib/python3.6/dist-packages (from ipympl) (3.2.2)\n",
      "Requirement already satisfied: nbformat>=4.2.0 in /usr/local/lib/python3.6/dist-packages (from ipywidgets>=7.5.0->ipympl) (5.0.8)\n",
      "Requirement already satisfied: traitlets>=4.3.1 in /usr/local/lib/python3.6/dist-packages (from ipywidgets>=7.5.0->ipympl) (4.3.3)\n",
      "Requirement already satisfied: ipython>=4.0.0; python_version >= \"3.3\" in /usr/local/lib/python3.6/dist-packages (from ipywidgets>=7.5.0->ipympl) (5.5.0)\n",
      "Requirement already satisfied: widgetsnbextension~=3.5.0 in /usr/local/lib/python3.6/dist-packages (from ipywidgets>=7.5.0->ipympl) (3.5.1)\n",
      "Requirement already satisfied: jupyter-client in /usr/local/lib/python3.6/dist-packages (from ipykernel>=4.7->ipympl) (5.3.5)\n",
      "Requirement already satisfied: tornado>=4.0 in /usr/local/lib/python3.6/dist-packages (from ipykernel>=4.7->ipympl) (5.1.1)\n",
      "Requirement already satisfied: pyparsing!=2.0.4,!=2.1.2,!=2.1.6,>=2.0.1 in /usr/local/lib/python3.6/dist-packages (from matplotlib>=2.0.0->ipympl) (2.4.7)\n",
      "Requirement already satisfied: cycler>=0.10 in /usr/local/lib/python3.6/dist-packages (from matplotlib>=2.0.0->ipympl) (0.10.0)\n",
      "Requirement already satisfied: python-dateutil>=2.1 in /usr/local/lib/python3.6/dist-packages (from matplotlib>=2.0.0->ipympl) (2.8.1)\n",
      "Requirement already satisfied: kiwisolver>=1.0.1 in /usr/local/lib/python3.6/dist-packages (from matplotlib>=2.0.0->ipympl) (1.3.1)\n",
      "Requirement already satisfied: numpy>=1.11 in /usr/local/lib/python3.6/dist-packages (from matplotlib>=2.0.0->ipympl) (1.18.5)\n",
      "Requirement already satisfied: jupyter-core in /usr/local/lib/python3.6/dist-packages (from nbformat>=4.2.0->ipywidgets>=7.5.0->ipympl) (4.7.0)\n",
      "Requirement already satisfied: jsonschema!=2.5.0,>=2.4 in /usr/local/lib/python3.6/dist-packages (from nbformat>=4.2.0->ipywidgets>=7.5.0->ipympl) (2.6.0)\n",
      "Requirement already satisfied: ipython-genutils in /usr/local/lib/python3.6/dist-packages (from nbformat>=4.2.0->ipywidgets>=7.5.0->ipympl) (0.2.0)\n",
      "Requirement already satisfied: decorator in /usr/local/lib/python3.6/dist-packages (from traitlets>=4.3.1->ipywidgets>=7.5.0->ipympl) (4.4.2)\n",
      "Requirement already satisfied: six in /usr/local/lib/python3.6/dist-packages (from traitlets>=4.3.1->ipywidgets>=7.5.0->ipympl) (1.15.0)\n",
      "Requirement already satisfied: simplegeneric>0.8 in /usr/local/lib/python3.6/dist-packages (from ipython>=4.0.0; python_version >= \"3.3\"->ipywidgets>=7.5.0->ipympl) (0.8.1)\n",
      "Requirement already satisfied: setuptools>=18.5 in /usr/local/lib/python3.6/dist-packages (from ipython>=4.0.0; python_version >= \"3.3\"->ipywidgets>=7.5.0->ipympl) (50.3.2)\n",
      "Requirement already satisfied: prompt-toolkit<2.0.0,>=1.0.4 in /usr/local/lib/python3.6/dist-packages (from ipython>=4.0.0; python_version >= \"3.3\"->ipywidgets>=7.5.0->ipympl) (1.0.18)\n",
      "Requirement already satisfied: pygments in /usr/local/lib/python3.6/dist-packages (from ipython>=4.0.0; python_version >= \"3.3\"->ipywidgets>=7.5.0->ipympl) (2.6.1)\n",
      "Requirement already satisfied: pexpect; sys_platform != \"win32\" in /usr/local/lib/python3.6/dist-packages (from ipython>=4.0.0; python_version >= \"3.3\"->ipywidgets>=7.5.0->ipympl) (4.8.0)\n",
      "Requirement already satisfied: pickleshare in /usr/local/lib/python3.6/dist-packages (from ipython>=4.0.0; python_version >= \"3.3\"->ipywidgets>=7.5.0->ipympl) (0.7.5)\n",
      "Requirement already satisfied: notebook>=4.4.1 in /usr/local/lib/python3.6/dist-packages (from widgetsnbextension~=3.5.0->ipywidgets>=7.5.0->ipympl) (5.3.1)\n",
      "Requirement already satisfied: pyzmq>=13 in /usr/local/lib/python3.6/dist-packages (from jupyter-client->ipykernel>=4.7->ipympl) (20.0.0)\n",
      "Requirement already satisfied: wcwidth in /usr/local/lib/python3.6/dist-packages (from prompt-toolkit<2.0.0,>=1.0.4->ipython>=4.0.0; python_version >= \"3.3\"->ipywidgets>=7.5.0->ipympl) (0.2.5)\n",
      "Requirement already satisfied: ptyprocess>=0.5 in /usr/local/lib/python3.6/dist-packages (from pexpect; sys_platform != \"win32\"->ipython>=4.0.0; python_version >= \"3.3\"->ipywidgets>=7.5.0->ipympl) (0.6.0)\n",
      "Requirement already satisfied: terminado>=0.8.1 in /usr/local/lib/python3.6/dist-packages (from notebook>=4.4.1->widgetsnbextension~=3.5.0->ipywidgets>=7.5.0->ipympl) (0.9.1)\n",
      "Requirement already satisfied: jinja2 in /usr/local/lib/python3.6/dist-packages (from notebook>=4.4.1->widgetsnbextension~=3.5.0->ipywidgets>=7.5.0->ipympl) (2.11.2)\n",
      "Requirement already satisfied: nbconvert in /usr/local/lib/python3.6/dist-packages (from notebook>=4.4.1->widgetsnbextension~=3.5.0->ipywidgets>=7.5.0->ipympl) (5.6.1)\n",
      "Requirement already satisfied: Send2Trash in /usr/local/lib/python3.6/dist-packages (from notebook>=4.4.1->widgetsnbextension~=3.5.0->ipywidgets>=7.5.0->ipympl) (1.5.0)\n",
      "Requirement already satisfied: MarkupSafe>=0.23 in /usr/local/lib/python3.6/dist-packages (from jinja2->notebook>=4.4.1->widgetsnbextension~=3.5.0->ipywidgets>=7.5.0->ipympl) (1.1.1)\n",
      "Requirement already satisfied: entrypoints>=0.2.2 in /usr/local/lib/python3.6/dist-packages (from nbconvert->notebook>=4.4.1->widgetsnbextension~=3.5.0->ipywidgets>=7.5.0->ipympl) (0.3)\n",
      "Requirement already satisfied: testpath in /usr/local/lib/python3.6/dist-packages (from nbconvert->notebook>=4.4.1->widgetsnbextension~=3.5.0->ipywidgets>=7.5.0->ipympl) (0.4.4)\n",
      "Requirement already satisfied: mistune<2,>=0.8.1 in /usr/local/lib/python3.6/dist-packages (from nbconvert->notebook>=4.4.1->widgetsnbextension~=3.5.0->ipywidgets>=7.5.0->ipympl) (0.8.4)\n",
      "Requirement already satisfied: defusedxml in /usr/local/lib/python3.6/dist-packages (from nbconvert->notebook>=4.4.1->widgetsnbextension~=3.5.0->ipywidgets>=7.5.0->ipympl) (0.6.0)\n",
      "Requirement already satisfied: pandocfilters>=1.4.1 in /usr/local/lib/python3.6/dist-packages (from nbconvert->notebook>=4.4.1->widgetsnbextension~=3.5.0->ipywidgets>=7.5.0->ipympl) (1.4.3)\n",
      "Requirement already satisfied: bleach in /usr/local/lib/python3.6/dist-packages (from nbconvert->notebook>=4.4.1->widgetsnbextension~=3.5.0->ipywidgets>=7.5.0->ipympl) (3.2.1)\n",
      "Requirement already satisfied: webencodings in /usr/local/lib/python3.6/dist-packages (from bleach->nbconvert->notebook>=4.4.1->widgetsnbextension~=3.5.0->ipywidgets>=7.5.0->ipympl) (0.5.1)\n",
      "Requirement already satisfied: packaging in /usr/local/lib/python3.6/dist-packages (from bleach->nbconvert->notebook>=4.4.1->widgetsnbextension~=3.5.0->ipywidgets>=7.5.0->ipympl) (20.7)\n",
      "--2020-12-14 04:43:19--  https://developer.nvidia.com/compute/cuda/9.0/Prod/local_installers/cuda-repo-ubuntu1704-9-0-local_9.0.176-1_amd64-deb\n",
      "Resolving developer.nvidia.com (developer.nvidia.com)... 152.199.0.24\n",
      "Connecting to developer.nvidia.com (developer.nvidia.com)|152.199.0.24|:443... connected.\n",
      "HTTP request sent, awaiting response... 302 Found\n",
      "Location: https://developer.download.nvidia.com/compute/cuda/9.0/secure/Prod/local_installers/cuda-repo-ubuntu1704-9-0-local_9.0.176-1_amd64.deb?4uZPaaygDSsfRc7HnAwiDa3akkfHSUIdydoeVvDB5sTKKfby5KYRxIEPu-E1pCmU1pr5SBaz4Vm4adYSsu_d178f4seIf199D1gP1pkxAQFKAyjzDiSeWmpLy7-1nfhhgCPOjgHDRUCgcUKdco15KhJOFk6QbjtO1KKWlZhwIRBgyKd51DD9wrNBYBuoPKqEckRzABP-ZztrPCVI36K2 [following]\n",
      "--2020-12-14 04:43:19--  https://developer.download.nvidia.com/compute/cuda/9.0/secure/Prod/local_installers/cuda-repo-ubuntu1704-9-0-local_9.0.176-1_amd64.deb?4uZPaaygDSsfRc7HnAwiDa3akkfHSUIdydoeVvDB5sTKKfby5KYRxIEPu-E1pCmU1pr5SBaz4Vm4adYSsu_d178f4seIf199D1gP1pkxAQFKAyjzDiSeWmpLy7-1nfhhgCPOjgHDRUCgcUKdco15KhJOFk6QbjtO1KKWlZhwIRBgyKd51DD9wrNBYBuoPKqEckRzABP-ZztrPCVI36K2\n",
      "Resolving developer.download.nvidia.com (developer.download.nvidia.com)... 152.195.19.142\n",
      "Connecting to developer.download.nvidia.com (developer.download.nvidia.com)|152.195.19.142|:443... connected.\n",
      "HTTP request sent, awaiting response... 200 OK\n",
      "Length: 1216133170 (1.1G) [application/x-deb]\n",
      "Saving to: ‘cuda-repo-ubuntu1704-9-0-local_9.0.176-1_amd64-deb.1’\n",
      "\n",
      "cuda-repo-ubuntu170 100%[===================>]   1.13G   227MB/s    in 5.2s    \n",
      "\n",
      "2020-12-14 04:43:24 (223 MB/s) - ‘cuda-repo-ubuntu1704-9-0-local_9.0.176-1_amd64-deb.1’ saved [1216133170/1216133170]\n",
      "\n",
      "cuda-repo-ubuntu1704-9-0-local_9.0.176-1_amd64-deb    data.csv\n",
      "cuda-repo-ubuntu1704-9-0-local_9.0.176-1_amd64-deb.1  sample_data\n",
      "(Reading database ... 154177 files and directories currently installed.)\n",
      "Preparing to unpack cuda-repo-ubuntu1704-9-0-local_9.0.176-1_amd64-deb ...\n",
      "Unpacking cuda-repo-ubuntu1704-9-0-local (9.0.176-1) over (9.0.176-1) ...\n",
      "Setting up cuda-repo-ubuntu1704-9-0-local (9.0.176-1) ...\n",
      "7fa2af80.pub\n",
      "OK\n",
      "Get:1 file:/var/cuda-repo-9-0-local  InRelease\n",
      "Ign:1 file:/var/cuda-repo-9-0-local  InRelease\n",
      "Get:2 file:/var/cuda-repo-9-0-local  Release [574 B]\n",
      "Get:2 file:/var/cuda-repo-9-0-local  Release [574 B]\n",
      "Ign:3 https://developer.download.nvidia.com/compute/cuda/repos/ubuntu1804/x86_64  InRelease\n",
      "Hit:4 https://cloud.r-project.org/bin/linux/ubuntu bionic-cran40/ InRelease\n",
      "Ign:5 https://developer.download.nvidia.com/compute/machine-learning/repos/ubuntu1804/x86_64  InRelease\n",
      "Hit:6 https://developer.download.nvidia.com/compute/cuda/repos/ubuntu1804/x86_64  Release\n",
      "Hit:7 https://developer.download.nvidia.com/compute/machine-learning/repos/ubuntu1804/x86_64  Release\n",
      "Hit:8 http://security.ubuntu.com/ubuntu bionic-security InRelease\n",
      "Hit:10 http://archive.ubuntu.com/ubuntu bionic InRelease\n",
      "Hit:11 http://ppa.launchpad.net/c2d4u.team/c2d4u4.0+/ubuntu bionic InRelease\n",
      "Hit:12 http://archive.ubuntu.com/ubuntu bionic-updates InRelease\n",
      "Hit:14 http://archive.ubuntu.com/ubuntu bionic-backports InRelease\n",
      "Hit:16 http://ppa.launchpad.net/graphics-drivers/ppa/ubuntu bionic InRelease\n",
      "Reading package lists... Done\n",
      "Reading package lists... Done\n",
      "Building dependency tree       \n",
      "Reading state information... Done\n",
      "Note, selecting 'cuda-9-0' for regex 'cuda-9.0'\n",
      "Note, selecting 'libcuda-9.0-1' for regex 'cuda-9.0'\n",
      "cuda-9-0 is already the newest version (9.0.176-1).\n",
      "0 upgraded, 0 newly installed, 0 to remove and 36 not upgraded.\n",
      "nvcc: NVIDIA (R) Cuda compiler driver\n",
      "Copyright (c) 2005-2017 NVIDIA Corporation\n",
      "Built on Fri_Sep__1_21:08:03_CDT_2017\n",
      "Cuda compilation tools, release 9.0, V9.0.176\n",
      "Requirement already satisfied: thundersvm in /usr/local/lib/python3.6/dist-packages (0.3.12)\n",
      "Requirement already satisfied: scikit-learn in /usr/local/lib/python3.6/dist-packages (from thundersvm) (0.22.2.post1)\n",
      "Requirement already satisfied: scipy in /usr/local/lib/python3.6/dist-packages (from thundersvm) (1.4.1)\n",
      "Requirement already satisfied: numpy in /usr/local/lib/python3.6/dist-packages (from thundersvm) (1.18.5)\n",
      "Requirement already satisfied: joblib>=0.11 in /usr/local/lib/python3.6/dist-packages (from scikit-learn->thundersvm) (0.17.0)\n"
     ]
    }
   ],
   "source": [
    "%load_ext autoreload\n",
    "%autoreload 2\n",
    "# to ensure kernel resets when files change around it\n",
    "!pip install np ipympl\n",
    "!wget https://developer.nvidia.com/compute/cuda/9.0/Prod/local_installers/cuda-repo-ubuntu1704-9-0-local_9.0.176-1_amd64-deb\n",
    "!ls  # Check if required cuda 9.0 amd64-deb file is downloaded\n",
    "!dpkg -i cuda-repo-ubuntu1704-9-0-local_9.0.176-1_amd64-deb\n",
    "!ls /var/cuda-repo-9-0-local | grep .pub\n",
    "!apt-key add /var/cuda-repo-9-0-local/7fa2af80.pub\n",
    "!apt-get update\n",
    "!sudo apt-get install cuda-9.0\n",
    "!nvcc --version\n",
    "!pip install thundersvm"
   ]
  },
  {
   "cell_type": "code",
   "execution_count": 2,
   "metadata": {
    "id": "ESt_am0_VAv1"
   },
   "outputs": [],
   "source": [
    "import np # numerical analysis\n",
    "import pandas as pd # main library for data analysis\n",
    "import matplotlib.pyplot as plt # main library for data plotting\n",
    "\n",
    "from IPython.display import display, Markdown\n",
    "\n",
    "from sklearn.model_selection import train_test_split # Import train_test_split function\n",
    "# Import svm model\n",
    "from thundersvm import SVC\n",
    "# Import scikit-learn metrics module for accuracy calculation\n",
    "from sklearn.metrics import *\n",
    "\n",
    "import warnings\n",
    "\n",
    "\"\"\"\n",
    "pd.set_option('display.max_rows', None)\n",
    "pd.set_option('display.max_columns', None)\n",
    "pd.set_option('display.width', None)\n",
    "pd.set_option('display.max_colwidth', -1)\"\"\"\n",
    "\n",
    "warnings.filterwarnings('ignore') # literally to ignore all the warnings that don't matter\n",
    "\n",
    "%matplotlib inline\n",
    "\n",
    "def printf(*args, sep=\" \", end=\"\\n\"):\n",
    "    string = sep.join([str(i) for i in args])+end\n",
    "    display(Markdown(string))"
   ]
  },
  {
   "cell_type": "code",
   "execution_count": 3,
   "metadata": {
    "colab": {
     "base_uri": "https://localhost:8080/",
     "height": 402
    },
    "id": "cZNnOFBmVAwF",
    "outputId": "d9bfbaab-ea2c-49b0-c2fc-4d2a67bef193"
   },
   "outputs": [
    {
     "data": {
      "text/html": [
       "<div>\n",
       "<style scoped>\n",
       "    .dataframe tbody tr th:only-of-type {\n",
       "        vertical-align: middle;\n",
       "    }\n",
       "\n",
       "    .dataframe tbody tr th {\n",
       "        vertical-align: top;\n",
       "    }\n",
       "\n",
       "    .dataframe thead th {\n",
       "        text-align: right;\n",
       "    }\n",
       "</style>\n",
       "<table border=\"1\" class=\"dataframe\">\n",
       "  <thead>\n",
       "    <tr style=\"text-align: right;\">\n",
       "      <th></th>\n",
       "      <th>x</th>\n",
       "      <th>y</th>\n",
       "      <th>z</th>\n",
       "      <th>n</th>\n",
       "      <th>freezeX</th>\n",
       "      <th>freezeY</th>\n",
       "      <th>freezeZ</th>\n",
       "      <th>freeze</th>\n",
       "    </tr>\n",
       "  </thead>\n",
       "  <tbody>\n",
       "    <tr>\n",
       "      <th>0</th>\n",
       "      <td>-45.0</td>\n",
       "      <td>972.0</td>\n",
       "      <td>181.0</td>\n",
       "      <td>989.732287</td>\n",
       "      <td>0.0</td>\n",
       "      <td>0.0</td>\n",
       "      <td>0.0</td>\n",
       "      <td>0.0</td>\n",
       "    </tr>\n",
       "    <tr>\n",
       "      <th>1</th>\n",
       "      <td>-18.0</td>\n",
       "      <td>981.0</td>\n",
       "      <td>212.0</td>\n",
       "      <td>1003.807252</td>\n",
       "      <td>0.0</td>\n",
       "      <td>0.0</td>\n",
       "      <td>0.0</td>\n",
       "      <td>0.0</td>\n",
       "    </tr>\n",
       "    <tr>\n",
       "      <th>2</th>\n",
       "      <td>18.0</td>\n",
       "      <td>981.0</td>\n",
       "      <td>222.0</td>\n",
       "      <td>1005.966699</td>\n",
       "      <td>0.0</td>\n",
       "      <td>0.0</td>\n",
       "      <td>0.0</td>\n",
       "      <td>0.0</td>\n",
       "    </tr>\n",
       "    <tr>\n",
       "      <th>3</th>\n",
       "      <td>36.0</td>\n",
       "      <td>990.0</td>\n",
       "      <td>222.0</td>\n",
       "      <td>1015.224113</td>\n",
       "      <td>0.0</td>\n",
       "      <td>0.0</td>\n",
       "      <td>0.0</td>\n",
       "      <td>0.0</td>\n",
       "    </tr>\n",
       "    <tr>\n",
       "      <th>4</th>\n",
       "      <td>36.0</td>\n",
       "      <td>990.0</td>\n",
       "      <td>212.0</td>\n",
       "      <td>1013.084399</td>\n",
       "      <td>0.0</td>\n",
       "      <td>0.0</td>\n",
       "      <td>0.0</td>\n",
       "      <td>0.0</td>\n",
       "    </tr>\n",
       "    <tr>\n",
       "      <th>...</th>\n",
       "      <td>...</td>\n",
       "      <td>...</td>\n",
       "      <td>...</td>\n",
       "      <td>...</td>\n",
       "      <td>...</td>\n",
       "      <td>...</td>\n",
       "      <td>...</td>\n",
       "      <td>...</td>\n",
       "    </tr>\n",
       "    <tr>\n",
       "      <th>1140830</th>\n",
       "      <td>0.0</td>\n",
       "      <td>0.0</td>\n",
       "      <td>0.0</td>\n",
       "      <td>0.000000</td>\n",
       "      <td>0.0</td>\n",
       "      <td>0.0</td>\n",
       "      <td>0.0</td>\n",
       "      <td>0.0</td>\n",
       "    </tr>\n",
       "    <tr>\n",
       "      <th>1140831</th>\n",
       "      <td>0.0</td>\n",
       "      <td>0.0</td>\n",
       "      <td>0.0</td>\n",
       "      <td>0.000000</td>\n",
       "      <td>0.0</td>\n",
       "      <td>0.0</td>\n",
       "      <td>0.0</td>\n",
       "      <td>0.0</td>\n",
       "    </tr>\n",
       "    <tr>\n",
       "      <th>1140832</th>\n",
       "      <td>0.0</td>\n",
       "      <td>0.0</td>\n",
       "      <td>0.0</td>\n",
       "      <td>0.000000</td>\n",
       "      <td>0.0</td>\n",
       "      <td>0.0</td>\n",
       "      <td>0.0</td>\n",
       "      <td>0.0</td>\n",
       "    </tr>\n",
       "    <tr>\n",
       "      <th>1140833</th>\n",
       "      <td>0.0</td>\n",
       "      <td>0.0</td>\n",
       "      <td>0.0</td>\n",
       "      <td>0.000000</td>\n",
       "      <td>0.0</td>\n",
       "      <td>0.0</td>\n",
       "      <td>0.0</td>\n",
       "      <td>0.0</td>\n",
       "    </tr>\n",
       "    <tr>\n",
       "      <th>1140834</th>\n",
       "      <td>0.0</td>\n",
       "      <td>0.0</td>\n",
       "      <td>0.0</td>\n",
       "      <td>0.000000</td>\n",
       "      <td>0.0</td>\n",
       "      <td>0.0</td>\n",
       "      <td>0.0</td>\n",
       "      <td>0.0</td>\n",
       "    </tr>\n",
       "  </tbody>\n",
       "</table>\n",
       "<p>1140835 rows × 8 columns</p>\n",
       "</div>"
      ],
      "text/plain": [
       "            x      y      z            n  freezeX  freezeY  freezeZ  freeze\n",
       "0       -45.0  972.0  181.0   989.732287      0.0      0.0      0.0     0.0\n",
       "1       -18.0  981.0  212.0  1003.807252      0.0      0.0      0.0     0.0\n",
       "2        18.0  981.0  222.0  1005.966699      0.0      0.0      0.0     0.0\n",
       "3        36.0  990.0  222.0  1015.224113      0.0      0.0      0.0     0.0\n",
       "4        36.0  990.0  212.0  1013.084399      0.0      0.0      0.0     0.0\n",
       "...       ...    ...    ...          ...      ...      ...      ...     ...\n",
       "1140830   0.0    0.0    0.0     0.000000      0.0      0.0      0.0     0.0\n",
       "1140831   0.0    0.0    0.0     0.000000      0.0      0.0      0.0     0.0\n",
       "1140832   0.0    0.0    0.0     0.000000      0.0      0.0      0.0     0.0\n",
       "1140833   0.0    0.0    0.0     0.000000      0.0      0.0      0.0     0.0\n",
       "1140834   0.0    0.0    0.0     0.000000      0.0      0.0      0.0     0.0\n",
       "\n",
       "[1140835 rows x 8 columns]"
      ]
     },
     "execution_count": 3,
     "metadata": {
      "tags": []
     },
     "output_type": "execute_result"
    }
   ],
   "source": [
    "df = pd.read_csv(\"data.csv\")\n",
    "X = df[[\"x\", \"y\", \"z\", \"n\", \"freezeX\", \"freezeY\", \"freezeZ\"]]\n",
    "y = df.freeze\n",
    "df"
   ]
  },
  {
   "cell_type": "code",
   "execution_count": 4,
   "metadata": {
    "colab": {
     "base_uri": "https://localhost:8080/",
     "height": 402
    },
    "id": "tfIRAO-RVAwP",
    "outputId": "497c49fc-5d6a-40fe-a234-7c0d5689eb84"
   },
   "outputs": [
    {
     "data": {
      "text/html": [
       "<div>\n",
       "<style scoped>\n",
       "    .dataframe tbody tr th:only-of-type {\n",
       "        vertical-align: middle;\n",
       "    }\n",
       "\n",
       "    .dataframe tbody tr th {\n",
       "        vertical-align: top;\n",
       "    }\n",
       "\n",
       "    .dataframe thead th {\n",
       "        text-align: right;\n",
       "    }\n",
       "</style>\n",
       "<table border=\"1\" class=\"dataframe\">\n",
       "  <thead>\n",
       "    <tr style=\"text-align: right;\">\n",
       "      <th></th>\n",
       "      <th>x</th>\n",
       "      <th>y</th>\n",
       "      <th>z</th>\n",
       "      <th>n</th>\n",
       "      <th>freezeX</th>\n",
       "      <th>freezeY</th>\n",
       "      <th>freezeZ</th>\n",
       "    </tr>\n",
       "  </thead>\n",
       "  <tbody>\n",
       "    <tr>\n",
       "      <th>980006</th>\n",
       "      <td>-145.0</td>\n",
       "      <td>1000.0</td>\n",
       "      <td>262.0</td>\n",
       "      <td>1043.872119</td>\n",
       "      <td>0.187473</td>\n",
       "      <td>0.777503</td>\n",
       "      <td>0.701144</td>\n",
       "    </tr>\n",
       "    <tr>\n",
       "      <th>397555</th>\n",
       "      <td>863.0</td>\n",
       "      <td>324.0</td>\n",
       "      <td>151.0</td>\n",
       "      <td>934.101708</td>\n",
       "      <td>0.000000</td>\n",
       "      <td>0.000000</td>\n",
       "      <td>0.000000</td>\n",
       "    </tr>\n",
       "    <tr>\n",
       "      <th>449215</th>\n",
       "      <td>-36.0</td>\n",
       "      <td>990.0</td>\n",
       "      <td>0.0</td>\n",
       "      <td>990.654329</td>\n",
       "      <td>0.000000</td>\n",
       "      <td>0.000000</td>\n",
       "      <td>0.000000</td>\n",
       "    </tr>\n",
       "    <tr>\n",
       "      <th>602553</th>\n",
       "      <td>327.0</td>\n",
       "      <td>953.0</td>\n",
       "      <td>40.0</td>\n",
       "      <td>1008.334270</td>\n",
       "      <td>4.233566</td>\n",
       "      <td>3.919225</td>\n",
       "      <td>1.858995</td>\n",
       "    </tr>\n",
       "    <tr>\n",
       "      <th>1034290</th>\n",
       "      <td>818.0</td>\n",
       "      <td>453.0</td>\n",
       "      <td>-191.0</td>\n",
       "      <td>954.365758</td>\n",
       "      <td>0.000000</td>\n",
       "      <td>0.000000</td>\n",
       "      <td>0.000000</td>\n",
       "    </tr>\n",
       "    <tr>\n",
       "      <th>...</th>\n",
       "      <td>...</td>\n",
       "      <td>...</td>\n",
       "      <td>...</td>\n",
       "      <td>...</td>\n",
       "      <td>...</td>\n",
       "      <td>...</td>\n",
       "      <td>...</td>\n",
       "    </tr>\n",
       "    <tr>\n",
       "      <th>1115886</th>\n",
       "      <td>-109.0</td>\n",
       "      <td>37.0</td>\n",
       "      <td>-979.0</td>\n",
       "      <td>985.743882</td>\n",
       "      <td>0.000000</td>\n",
       "      <td>0.000000</td>\n",
       "      <td>0.000000</td>\n",
       "    </tr>\n",
       "    <tr>\n",
       "      <th>728621</th>\n",
       "      <td>172.0</td>\n",
       "      <td>1074.0</td>\n",
       "      <td>343.0</td>\n",
       "      <td>1140.486300</td>\n",
       "      <td>0.562288</td>\n",
       "      <td>0.705512</td>\n",
       "      <td>0.471921</td>\n",
       "    </tr>\n",
       "    <tr>\n",
       "      <th>664162</th>\n",
       "      <td>-172.0</td>\n",
       "      <td>944.0</td>\n",
       "      <td>252.0</td>\n",
       "      <td>992.080642</td>\n",
       "      <td>1.032315</td>\n",
       "      <td>0.509653</td>\n",
       "      <td>0.554239</td>\n",
       "    </tr>\n",
       "    <tr>\n",
       "      <th>625229</th>\n",
       "      <td>109.0</td>\n",
       "      <td>722.0</td>\n",
       "      <td>353.0</td>\n",
       "      <td>811.032675</td>\n",
       "      <td>0.689535</td>\n",
       "      <td>1.154806</td>\n",
       "      <td>1.192720</td>\n",
       "    </tr>\n",
       "    <tr>\n",
       "      <th>889432</th>\n",
       "      <td>181.0</td>\n",
       "      <td>944.0</td>\n",
       "      <td>50.0</td>\n",
       "      <td>962.495195</td>\n",
       "      <td>0.508345</td>\n",
       "      <td>1.243495</td>\n",
       "      <td>0.458644</td>\n",
       "    </tr>\n",
       "  </tbody>\n",
       "</table>\n",
       "<p>798584 rows × 7 columns</p>\n",
       "</div>"
      ],
      "text/plain": [
       "             x       y      z            n   freezeX   freezeY   freezeZ\n",
       "980006  -145.0  1000.0  262.0  1043.872119  0.187473  0.777503  0.701144\n",
       "397555   863.0   324.0  151.0   934.101708  0.000000  0.000000  0.000000\n",
       "449215   -36.0   990.0    0.0   990.654329  0.000000  0.000000  0.000000\n",
       "602553   327.0   953.0   40.0  1008.334270  4.233566  3.919225  1.858995\n",
       "1034290  818.0   453.0 -191.0   954.365758  0.000000  0.000000  0.000000\n",
       "...        ...     ...    ...          ...       ...       ...       ...\n",
       "1115886 -109.0    37.0 -979.0   985.743882  0.000000  0.000000  0.000000\n",
       "728621   172.0  1074.0  343.0  1140.486300  0.562288  0.705512  0.471921\n",
       "664162  -172.0   944.0  252.0   992.080642  1.032315  0.509653  0.554239\n",
       "625229   109.0   722.0  353.0   811.032675  0.689535  1.154806  1.192720\n",
       "889432   181.0   944.0   50.0   962.495195  0.508345  1.243495  0.458644\n",
       "\n",
       "[798584 rows x 7 columns]"
      ]
     },
     "execution_count": 4,
     "metadata": {
      "tags": []
     },
     "output_type": "execute_result"
    }
   ],
   "source": [
    "# Split dataset into training set and test set\n",
    "X_train, X_test, y_train, y_test = train_test_split(X, y, test_size = 0.30)\n",
    "X_train"
   ]
  },
  {
   "cell_type": "code",
   "execution_count": null,
   "metadata": {
    "colab": {
     "base_uri": "https://localhost:8080/",
     "height": 1000
    },
    "id": "it06HsonVAwR",
    "outputId": "1b74e3ba-ec6e-44ad-c8d3-777560ef8d31"
   },
   "outputs": [
    {
     "data": {
      "text/markdown": [
       "#  rbf\n"
      ],
      "text/plain": [
       "<IPython.core.display.Markdown object>"
      ]
     },
     "metadata": {
      "tags": []
     },
     "output_type": "display_data"
    },
    {
     "data": {
      "text/markdown": [
       "##  freezeXY\n"
      ],
      "text/plain": [
       "<IPython.core.display.Markdown object>"
      ]
     },
     "metadata": {
      "tags": []
     },
     "output_type": "display_data"
    },
    {
     "name": "stdout",
     "output_type": "stream",
     "text": [
      "[[306054   3141]\n",
      " [ 27351   5705]]\n",
      "              precision    recall  f1-score   support\n",
      "\n",
      "         0.0       0.92      0.99      0.95    309195\n",
      "         1.0       0.64      0.17      0.27     33056\n",
      "\n",
      "    accuracy                           0.91    342251\n",
      "   macro avg       0.78      0.58      0.61    342251\n",
      "weighted avg       0.89      0.91      0.89    342251\n",
      "\n",
      "Accuracy: 0.9109074918700019\n",
      "Balanced Accuracy: 0.5812136385291775\n",
      "Average Precison: 0.19121987643776361\n",
      "Neg Brier Score: 0.08909250812999817\n",
      "F1: 0.27230203808887404\n",
      "-log loss: nan\n",
      "Precision: 0.64492425955234\n",
      "Recall: 0.17258591481122942\n",
      "Jaccard: 0.1576097466640882\n",
      "Roc Auc: 0.5812136385291775\n",
      "\n",
      "\n",
      "\n",
      "\n"
     ]
    },
    {
     "data": {
      "text/markdown": [
       "##  freezeXZ\n"
      ],
      "text/plain": [
       "<IPython.core.display.Markdown object>"
      ]
     },
     "metadata": {
      "tags": []
     },
     "output_type": "display_data"
    },
    {
     "name": "stdout",
     "output_type": "stream",
     "text": [
      "[[306491   2704]\n",
      " [ 27510   5546]]\n",
      "              precision    recall  f1-score   support\n",
      "\n",
      "         0.0       0.92      0.99      0.95    309195\n",
      "         1.0       0.67      0.17      0.27     33056\n",
      "\n",
      "    accuracy                           0.91    342251\n",
      "   macro avg       0.79      0.58      0.61    342251\n",
      "weighted avg       0.89      0.91      0.89    342251\n",
      "\n",
      "Accuracy: 0.9117197612278708\n",
      "Balanced Accuracy: 0.579515302630553\n",
      "Average Precison: 0.19316567912920285\n",
      "Neg Brier Score: 0.08828023877212923\n",
      "F1: 0.26853241659807287\n",
      "-log loss: nan\n",
      "Precision: 0.6722424242424242\n",
      "Recall: 0.1677758954501452\n",
      "Jaccard: 0.15508948545861298\n",
      "Roc Auc: 0.579515302630553\n",
      "\n",
      "\n",
      "\n",
      "\n"
     ]
    },
    {
     "data": {
      "text/markdown": [
       "##  freezeYZ\n"
      ],
      "text/plain": [
       "<IPython.core.display.Markdown object>"
      ]
     },
     "metadata": {
      "tags": []
     },
     "output_type": "display_data"
    },
    {
     "name": "stdout",
     "output_type": "stream",
     "text": [
      "[[306471   2724]\n",
      " [ 27792   5264]]\n",
      "              precision    recall  f1-score   support\n",
      "\n",
      "         0.0       0.92      0.99      0.95    309195\n",
      "         1.0       0.66      0.16      0.26     33056\n",
      "\n",
      "    accuracy                           0.91    342251\n",
      "   macro avg       0.79      0.58      0.60    342251\n",
      "weighted avg       0.89      0.91      0.89    342251\n",
      "\n",
      "Accuracy: 0.9108373678966606\n",
      "Balanced Accuracy: 0.5752174717136607\n",
      "Average Precison: 0.186144127835901\n",
      "Neg Brier Score: 0.08916263210333936\n",
      "F1: 0.2565052139167723\n",
      "-log loss: nan\n",
      "Precision: 0.6589884827240862\n",
      "Recall: 0.15924491771539206\n",
      "Jaccard: 0.1471212968138625\n",
      "Roc Auc: 0.5752174717136607\n",
      "\n",
      "\n",
      "\n",
      "\n"
     ]
    },
    {
     "data": {
      "text/markdown": [
       "##  freeze\n"
      ],
      "text/plain": [
       "<IPython.core.display.Markdown object>"
      ]
     },
     "metadata": {
      "tags": []
     },
     "output_type": "display_data"
    },
    {
     "name": "stdout",
     "output_type": "stream",
     "text": [
      "[[306009   3186]\n",
      " [ 24572   8484]]\n",
      "              precision    recall  f1-score   support\n",
      "\n",
      "         0.0       0.93      0.99      0.96    309195\n",
      "         1.0       0.73      0.26      0.38     33056\n",
      "\n",
      "    accuracy                           0.92    342251\n",
      "   macro avg       0.83      0.62      0.67    342251\n",
      "weighted avg       0.91      0.92      0.90    342251\n",
      "\n",
      "Accuracy: 0.9188957811664539\n",
      "Balanced Accuracy: 0.6231755978625881\n",
      "Average Precison: 0.2583817379786876\n",
      "Neg Brier Score: 0.08110421883354614\n",
      "F1: 0.37937664892903455\n",
      "-log loss: nan\n",
      "Precision: 0.7269922879177377\n",
      "Recall: 0.25665537270087124\n",
      "Jaccard: 0.23409304122289057\n",
      "Roc Auc: 0.6231755978625881\n",
      "\n",
      "\n",
      "\n",
      "\n"
     ]
    },
    {
     "data": {
      "text/markdown": [
       "#  linear\n"
      ],
      "text/plain": [
       "<IPython.core.display.Markdown object>"
      ]
     },
     "metadata": {
      "tags": []
     },
     "output_type": "display_data"
    },
    {
     "data": {
      "text/markdown": [
       "##  freezeXY\n"
      ],
      "text/plain": [
       "<IPython.core.display.Markdown object>"
      ]
     },
     "metadata": {
      "tags": []
     },
     "output_type": "display_data"
    },
    {
     "name": "stdout",
     "output_type": "stream",
     "text": [
      "[[309195      0]\n",
      " [ 33056      0]]\n",
      "              precision    recall  f1-score   support\n",
      "\n",
      "         0.0       0.90      1.00      0.95    309195\n",
      "         1.0       0.00      0.00      0.00     33056\n",
      "\n",
      "    accuracy                           0.90    342251\n",
      "   macro avg       0.45      0.50      0.47    342251\n",
      "weighted avg       0.82      0.90      0.86    342251\n",
      "\n",
      "Accuracy: 0.9034159140513833\n",
      "Balanced Accuracy: 0.5\n",
      "Average Precison: 0.09658408594861666\n",
      "Neg Brier Score: 0.09658408594861666\n",
      "F1: 0.0\n",
      "-log loss: 3.335896148156\n",
      "Precision: 0.0\n",
      "Recall: 0.0\n",
      "Jaccard: 0.0\n",
      "Roc Auc: 0.5\n",
      "\n",
      "\n",
      "\n",
      "\n"
     ]
    },
    {
     "data": {
      "text/markdown": [
       "##  freezeXZ\n"
      ],
      "text/plain": [
       "<IPython.core.display.Markdown object>"
      ]
     },
     "metadata": {
      "tags": []
     },
     "output_type": "display_data"
    },
    {
     "name": "stdout",
     "output_type": "stream",
     "text": [
      "[[  2258 306937]\n",
      " [  3113  29943]]\n",
      "              precision    recall  f1-score   support\n",
      "\n",
      "         0.0       0.42      0.01      0.01    309195\n",
      "         1.0       0.09      0.91      0.16     33056\n",
      "\n",
      "    accuracy                           0.09    342251\n",
      "   macro avg       0.25      0.46      0.09    342251\n",
      "weighted avg       0.39      0.09      0.03    342251\n",
      "\n",
      "Accuracy: 0.09408591939833631\n",
      "Balanced Accuracy: 0.456564655531656\n",
      "Average Precison: 0.08960849373531253\n",
      "Neg Brier Score: 0.9059140806016637\n",
      "F1: 0.16188205527442584\n",
      "-log loss: nan\n",
      "Precision: 0.08888328188078841\n",
      "Recall: 0.9058264762826719\n",
      "Jaccard: 0.08806946025359345\n",
      "Roc Auc: 0.456564655531656\n",
      "\n",
      "\n",
      "\n",
      "\n"
     ]
    },
    {
     "data": {
      "text/markdown": [
       "##  freezeYZ\n"
      ],
      "text/plain": [
       "<IPython.core.display.Markdown object>"
      ]
     },
     "metadata": {
      "tags": []
     },
     "output_type": "display_data"
    },
    {
     "name": "stdout",
     "output_type": "stream",
     "text": [
      "[[308862    333]\n",
      " [ 32780    276]]\n",
      "              precision    recall  f1-score   support\n",
      "\n",
      "         0.0       0.90      1.00      0.95    309195\n",
      "         1.0       0.45      0.01      0.02     33056\n",
      "\n",
      "    accuracy                           0.90    342251\n",
      "   macro avg       0.68      0.50      0.48    342251\n",
      "weighted avg       0.86      0.90      0.86    342251\n",
      "\n",
      "Accuracy: 0.903249369614698\n",
      "Balanced Accuracy: 0.5036362386606559\n",
      "Average Precison: 0.09956165541015304\n",
      "Neg Brier Score: 0.09675063038530202\n",
      "F1: 0.016396851329273727\n",
      "-log loss: nan\n",
      "Precision: 0.45320197044334976\n",
      "Recall: 0.00834946757018393\n",
      "Jaccard: 0.0082661954535925\n",
      "Roc Auc: 0.5036362386606559\n",
      "\n",
      "\n",
      "\n",
      "\n"
     ]
    },
    {
     "data": {
      "text/markdown": [
       "##  freeze\n"
      ],
      "text/plain": [
       "<IPython.core.display.Markdown object>"
      ]
     },
     "metadata": {
      "tags": []
     },
     "output_type": "display_data"
    }
   ],
   "source": [
    "kernel_args = [\n",
    "    {\"kernel\": \"rbf\"},\n",
    "    {\"kernel\": \"linear\"}\n",
    "]\n",
    "\n",
    "datasets = {\n",
    "    \"freezeXY\": [\"freezeX\", \"freezeY\"],\n",
    "    \"freezeXZ\": [\"freezeX\", \"freezeZ\"],\n",
    "    \"freezeYZ\": [\"freezeY\", \"freezeZ\"],\n",
    "    \"freeze\": [\"freezeX\", \"freezeY\", \"freezeZ\"]\n",
    "}\n",
    "\n",
    "preds = []\n",
    "\n",
    "for kwargs in kernel_args:\n",
    "    printf(\"# \", kwargs[\"kernel\"])\n",
    "    for name, data in datasets.items():\n",
    "        printf(\"## \", name)\n",
    "        \n",
    "        #Create a svm Classifier\n",
    "        svclassifier = SVC(**kwargs)\n",
    "        \n",
    "        # Train the model using the training sets\n",
    "        svclassifier.fit(X_train[data], y_train)\n",
    "        \n",
    "        # Predict the response for test dataset\n",
    "        y_pred = svclassifier.predict(X_test[data])\n",
    "        preds.append(y_pred)\n",
    "        \n",
    "        # Model Accuracy: how often is the classifier correct?\n",
    "        print(confusion_matrix(y_test,y_pred))\n",
    "        print(classification_report(y_test,y_pred))\n",
    "        \n",
    "        # Classification Metrics\n",
    "        print(\"Accuracy:\", accuracy_score(y_test, y_pred))\n",
    "        print(\"Balanced Accuracy:\", balanced_accuracy_score(y_test, y_pred))\n",
    "        print(\"Average Precison:\", average_precision_score(y_test, y_pred))\n",
    "        print(\"Neg Brier Score:\", brier_score_loss(y_test, y_pred))\n",
    "        print(\"F1:\", f1_score(y_test, y_pred))\n",
    "        print(\"-log loss:\", log_loss(y_test, y_pred))\n",
    "        print(\"Precision:\", precision_score(y_test, y_pred))\n",
    "        print(\"Recall:\", recall_score(y_test, y_pred))\n",
    "        print(\"Jaccard:\", jaccard_score(y_test, y_pred))\n",
    "        print(\"Roc Auc:\", roc_auc_score(y_test, y_pred))\n",
    "        print(\"\\n\\n\\n\")"
   ]
  }
 ],
 "metadata": {
  "accelerator": "GPU",
  "colab": {
   "name": "Daphnet Analysis.ipynb",
   "provenance": [],
   "toc_visible": true
  },
  "kernelspec": {
   "display_name": "Python 3",
   "language": "python",
   "name": "python3"
  },
  "language_info": {
   "codemirror_mode": {
    "name": "ipython",
    "version": 3
   },
   "file_extension": ".py",
   "mimetype": "text/x-python",
   "name": "python",
   "nbconvert_exporter": "python",
   "pygments_lexer": "ipython3",
   "version": "3.7.2"
  }
 },
 "nbformat": 4,
 "nbformat_minor": 4
}
